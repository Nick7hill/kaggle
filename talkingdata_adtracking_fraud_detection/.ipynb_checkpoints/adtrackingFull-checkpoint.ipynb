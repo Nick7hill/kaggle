{
 "cells": [
  {
   "cell_type": "markdown",
   "metadata": {
    "collapsed": true
   },
   "source": [
    "# TalkingData AdTracking \n",
    "This dataset is huge , one of the biggest i have ever seen.\n",
    "\n",
    "For this dataset, the objective is to predict whether a user will download an app after clicking a mobile app advertisement. Since, they have given a small training sample, we will first explore the dataset using this sample training set.\n",
    "\n",
    "First let us import the necessary libraries and have a look at the data\n",
    "\n"
   ]
  },
  {
   "cell_type": "code",
   "execution_count": 1,
   "metadata": {},
   "outputs": [
    {
     "data": {
      "text/html": [
       "<div>\n",
       "<style>\n",
       "    .dataframe thead tr:only-child th {\n",
       "        text-align: right;\n",
       "    }\n",
       "\n",
       "    .dataframe thead th {\n",
       "        text-align: left;\n",
       "    }\n",
       "\n",
       "    .dataframe tbody tr th {\n",
       "        vertical-align: top;\n",
       "    }\n",
       "</style>\n",
       "<table border=\"1\" class=\"dataframe\">\n",
       "  <thead>\n",
       "    <tr style=\"text-align: right;\">\n",
       "      <th></th>\n",
       "      <th>ip</th>\n",
       "      <th>app</th>\n",
       "      <th>device</th>\n",
       "      <th>os</th>\n",
       "      <th>channel</th>\n",
       "      <th>click_time</th>\n",
       "      <th>attributed_time</th>\n",
       "      <th>is_attributed</th>\n",
       "    </tr>\n",
       "  </thead>\n",
       "  <tbody>\n",
       "    <tr>\n",
       "      <th>0</th>\n",
       "      <td>87540</td>\n",
       "      <td>12</td>\n",
       "      <td>1</td>\n",
       "      <td>13</td>\n",
       "      <td>497</td>\n",
       "      <td>2017-11-07 09:30:38</td>\n",
       "      <td>NaN</td>\n",
       "      <td>0</td>\n",
       "    </tr>\n",
       "    <tr>\n",
       "      <th>1</th>\n",
       "      <td>105560</td>\n",
       "      <td>25</td>\n",
       "      <td>1</td>\n",
       "      <td>17</td>\n",
       "      <td>259</td>\n",
       "      <td>2017-11-07 13:40:27</td>\n",
       "      <td>NaN</td>\n",
       "      <td>0</td>\n",
       "    </tr>\n",
       "    <tr>\n",
       "      <th>2</th>\n",
       "      <td>101424</td>\n",
       "      <td>12</td>\n",
       "      <td>1</td>\n",
       "      <td>19</td>\n",
       "      <td>212</td>\n",
       "      <td>2017-11-07 18:05:24</td>\n",
       "      <td>NaN</td>\n",
       "      <td>0</td>\n",
       "    </tr>\n",
       "    <tr>\n",
       "      <th>3</th>\n",
       "      <td>94584</td>\n",
       "      <td>13</td>\n",
       "      <td>1</td>\n",
       "      <td>13</td>\n",
       "      <td>477</td>\n",
       "      <td>2017-11-07 04:58:08</td>\n",
       "      <td>NaN</td>\n",
       "      <td>0</td>\n",
       "    </tr>\n",
       "    <tr>\n",
       "      <th>4</th>\n",
       "      <td>68413</td>\n",
       "      <td>12</td>\n",
       "      <td>1</td>\n",
       "      <td>1</td>\n",
       "      <td>178</td>\n",
       "      <td>2017-11-09 09:00:09</td>\n",
       "      <td>NaN</td>\n",
       "      <td>0</td>\n",
       "    </tr>\n",
       "  </tbody>\n",
       "</table>\n",
       "</div>"
      ],
      "text/plain": [
       "       ip  app  device  os  channel           click_time attributed_time  \\\n",
       "0   87540   12       1  13      497  2017-11-07 09:30:38             NaN   \n",
       "1  105560   25       1  17      259  2017-11-07 13:40:27             NaN   \n",
       "2  101424   12       1  19      212  2017-11-07 18:05:24             NaN   \n",
       "3   94584   13       1  13      477  2017-11-07 04:58:08             NaN   \n",
       "4   68413   12       1   1      178  2017-11-09 09:00:09             NaN   \n",
       "\n",
       "   is_attributed  \n",
       "0              0  \n",
       "1              0  \n",
       "2              0  \n",
       "3              0  \n",
       "4              0  "
      ]
     },
     "execution_count": 1,
     "metadata": {},
     "output_type": "execute_result"
    }
   ],
   "source": [
    "import pandas as pd\n",
    "import numpy as np\n",
    "import matplotlib.pyplot as plt\n",
    "%matplotlib inline\n",
    "import seaborn as sns\n",
    "import os \n",
    "import gc\n",
    "\n",
    "train=pd.read_csv('mnt/ssd/kaggle-talkingdata2/competition_files/train_sample.csv')\n",
    "train.head()"
   ]
  },
  {
   "cell_type": "code",
   "execution_count": 2,
   "metadata": {},
   "outputs": [
    {
     "data": {
      "text/plain": [
       "(100000, 8)"
      ]
     },
     "execution_count": 2,
     "metadata": {},
     "output_type": "execute_result"
    }
   ],
   "source": [
    "train.shape"
   ]
  },
  {
   "cell_type": "markdown",
   "metadata": {
    "collapsed": true
   },
   "source": [
    "## Data fields\n",
    "\n",
    "Each row of the training data contains a click record, with the following features.\n",
    "\n",
    "- ip: ip address of click.\n",
    "- app: app id for marketing.\n",
    "- device: device type id of user mobile phone (e.g., iphone 6 plus, iphone 7, huawei mate 7, etc.)\n",
    "- os: os version id of user mobile phone\n",
    "- channel: channel id of mobile ad publisher\n",
    "- click_time: timestamp of click (UTC)\n",
    "- attributed_time: if user download the app for after clicking an ad, this is the time of the app download\n",
    "- is_attributed: the target that is to be predicted, indicating the app was downloaded\n",
    "Note that ip, app, device, os, and channel are encoded.\n",
    "\n",
    "The test data is similar, with the following differences:\n",
    "\n",
    "- click_id: reference for making predictions\n",
    "- is_attributed: not included\n",
    "\n",
    "\n",
    "The evaluation metric used is ROC curve, the AUC of the ROC graph. Let us have a look at the actual train and test set below "
   ]
  },
  {
   "cell_type": "code",
   "execution_count": 3,
   "metadata": {
    "collapsed": true
   },
   "outputs": [],
   "source": [
    "train_columns = ['ip', 'app', 'device', 'os', 'channel', 'click_time', 'is_attributed']\n",
    "test_columns  = ['ip', 'app', 'device', 'os', 'channel', 'click_time', 'click_id']\n",
    "dtypes = {\n",
    "        'ip'            : 'uint32',\n",
    "        'app'           : 'uint16',\n",
    "        'device'        : 'uint16',\n",
    "        'os'            : 'uint16',\n",
    "        'channel'       : 'uint16',\n",
    "        'is_attributed' : 'uint8',\n",
    "        'click_id'      : 'uint32'\n",
    "        }\n"
   ]
  },
  {
   "cell_type": "code",
   "execution_count": 4,
   "metadata": {},
   "outputs": [
    {
     "data": {
      "text/html": [
       "<div>\n",
       "<style>\n",
       "    .dataframe thead tr:only-child th {\n",
       "        text-align: right;\n",
       "    }\n",
       "\n",
       "    .dataframe thead th {\n",
       "        text-align: left;\n",
       "    }\n",
       "\n",
       "    .dataframe tbody tr th {\n",
       "        vertical-align: top;\n",
       "    }\n",
       "</style>\n",
       "<table border=\"1\" class=\"dataframe\">\n",
       "  <thead>\n",
       "    <tr style=\"text-align: right;\">\n",
       "      <th></th>\n",
       "      <th>ip</th>\n",
       "      <th>app</th>\n",
       "      <th>device</th>\n",
       "      <th>os</th>\n",
       "      <th>channel</th>\n",
       "      <th>click_time</th>\n",
       "      <th>is_attributed</th>\n",
       "    </tr>\n",
       "  </thead>\n",
       "  <tbody>\n",
       "    <tr>\n",
       "      <th>0</th>\n",
       "      <td>267533</td>\n",
       "      <td>24</td>\n",
       "      <td>1</td>\n",
       "      <td>19</td>\n",
       "      <td>105</td>\n",
       "      <td>2017-11-08 04:45:12</td>\n",
       "      <td>0</td>\n",
       "    </tr>\n",
       "    <tr>\n",
       "      <th>1</th>\n",
       "      <td>42530</td>\n",
       "      <td>21</td>\n",
       "      <td>1</td>\n",
       "      <td>9</td>\n",
       "      <td>128</td>\n",
       "      <td>2017-11-08 04:45:12</td>\n",
       "      <td>0</td>\n",
       "    </tr>\n",
       "    <tr>\n",
       "      <th>2</th>\n",
       "      <td>92366</td>\n",
       "      <td>3</td>\n",
       "      <td>1</td>\n",
       "      <td>19</td>\n",
       "      <td>137</td>\n",
       "      <td>2017-11-08 04:45:12</td>\n",
       "      <td>0</td>\n",
       "    </tr>\n",
       "    <tr>\n",
       "      <th>3</th>\n",
       "      <td>256489</td>\n",
       "      <td>3</td>\n",
       "      <td>1</td>\n",
       "      <td>19</td>\n",
       "      <td>205</td>\n",
       "      <td>2017-11-08 04:45:12</td>\n",
       "      <td>0</td>\n",
       "    </tr>\n",
       "    <tr>\n",
       "      <th>4</th>\n",
       "      <td>73933</td>\n",
       "      <td>1</td>\n",
       "      <td>1</td>\n",
       "      <td>37</td>\n",
       "      <td>137</td>\n",
       "      <td>2017-11-08 04:45:12</td>\n",
       "      <td>0</td>\n",
       "    </tr>\n",
       "  </tbody>\n",
       "</table>\n",
       "</div>"
      ],
      "text/plain": [
       "       ip  app  device  os  channel           click_time  is_attributed\n",
       "0  267533   24       1  19      105  2017-11-08 04:45:12              0\n",
       "1   42530   21       1   9      128  2017-11-08 04:45:12              0\n",
       "2   92366    3       1  19      137  2017-11-08 04:45:12              0\n",
       "3  256489    3       1  19      205  2017-11-08 04:45:12              0\n",
       "4   73933    1       1  37      137  2017-11-08 04:45:12              0"
      ]
     },
     "execution_count": 4,
     "metadata": {},
     "output_type": "execute_result"
    }
   ],
   "source": [
    "train_df = pd.read_csv('mnt/ssd/kaggle-talkingdata2/competition_files/train.csv',skiprows=range(1,84930981),\n",
    "                       nrows=100000000,usecols=train_columns,dtype=dtypes)\n",
    "train_df.head()"
   ]
  },
  {
   "cell_type": "code",
   "execution_count": 5,
   "metadata": {
    "collapsed": true
   },
   "outputs": [],
   "source": [
    "'''handy function to check the occupied RAM at crucial points,\n",
    "credit to http://practicalpython.blogspot.in/2017/03/monitoring-memory-usage-in-jupyter.html'''\n",
    "\n",
    "def show_mem_usage():\n",
    "    '''Displays memory usage from inspection\n",
    "    of global variables in this notebook'''\n",
    "    gl = sys._getframe(1).f_globals\n",
    "    vars= {}\n",
    "    for k,v in list(gl.items()):\n",
    "        # for pandas dataframes\n",
    "        if hasattr(v, 'memory_usage'):\n",
    "            mem = v.memory_usage(deep=True)\n",
    "            if not np.isscalar(mem):\n",
    "                mem = mem.sum()\n",
    "            vars.setdefault(id(v),[mem]).append(k)\n",
    "        # work around for a bug\n",
    "        elif isinstance(v,pd.Panel):\n",
    "            v = v.values\n",
    "        vars.setdefault(id(v),[sys.getsizeof(v)]).append(k)\n",
    "    total = 0\n",
    "    for k,(value,*names) in vars.items():\n",
    "        if value>1e6:\n",
    "            print(names,\"%.3fMB\"%(value/1e6))\n",
    "        total += value\n",
    "    print(\"%.3fMB\"%(total/1e6))"
   ]
  },
  {
   "cell_type": "code",
   "execution_count": 6,
   "metadata": {},
   "outputs": [
    {
     "data": {
      "text/plain": [
       "(99972910, 7)"
      ]
     },
     "execution_count": 6,
     "metadata": {},
     "output_type": "execute_result"
    }
   ],
   "source": [
    "train_df.shape"
   ]
  },
  {
   "cell_type": "code",
   "execution_count": 7,
   "metadata": {},
   "outputs": [
    {
     "data": {
      "text/html": [
       "<div>\n",
       "<style>\n",
       "    .dataframe thead tr:only-child th {\n",
       "        text-align: right;\n",
       "    }\n",
       "\n",
       "    .dataframe thead th {\n",
       "        text-align: left;\n",
       "    }\n",
       "\n",
       "    .dataframe tbody tr th {\n",
       "        vertical-align: top;\n",
       "    }\n",
       "</style>\n",
       "<table border=\"1\" class=\"dataframe\">\n",
       "  <thead>\n",
       "    <tr style=\"text-align: right;\">\n",
       "      <th></th>\n",
       "      <th>click_id</th>\n",
       "      <th>ip</th>\n",
       "      <th>app</th>\n",
       "      <th>device</th>\n",
       "      <th>os</th>\n",
       "      <th>channel</th>\n",
       "      <th>click_time</th>\n",
       "    </tr>\n",
       "  </thead>\n",
       "  <tbody>\n",
       "    <tr>\n",
       "      <th>0</th>\n",
       "      <td>0</td>\n",
       "      <td>5744</td>\n",
       "      <td>9</td>\n",
       "      <td>1</td>\n",
       "      <td>3</td>\n",
       "      <td>107</td>\n",
       "      <td>2017-11-10 04:00:00</td>\n",
       "    </tr>\n",
       "    <tr>\n",
       "      <th>1</th>\n",
       "      <td>1</td>\n",
       "      <td>119901</td>\n",
       "      <td>9</td>\n",
       "      <td>1</td>\n",
       "      <td>3</td>\n",
       "      <td>466</td>\n",
       "      <td>2017-11-10 04:00:00</td>\n",
       "    </tr>\n",
       "    <tr>\n",
       "      <th>2</th>\n",
       "      <td>2</td>\n",
       "      <td>72287</td>\n",
       "      <td>21</td>\n",
       "      <td>1</td>\n",
       "      <td>19</td>\n",
       "      <td>128</td>\n",
       "      <td>2017-11-10 04:00:00</td>\n",
       "    </tr>\n",
       "    <tr>\n",
       "      <th>3</th>\n",
       "      <td>3</td>\n",
       "      <td>78477</td>\n",
       "      <td>15</td>\n",
       "      <td>1</td>\n",
       "      <td>13</td>\n",
       "      <td>111</td>\n",
       "      <td>2017-11-10 04:00:00</td>\n",
       "    </tr>\n",
       "    <tr>\n",
       "      <th>4</th>\n",
       "      <td>4</td>\n",
       "      <td>123080</td>\n",
       "      <td>12</td>\n",
       "      <td>1</td>\n",
       "      <td>13</td>\n",
       "      <td>328</td>\n",
       "      <td>2017-11-10 04:00:00</td>\n",
       "    </tr>\n",
       "  </tbody>\n",
       "</table>\n",
       "</div>"
      ],
      "text/plain": [
       "   click_id      ip  app  device  os  channel           click_time\n",
       "0         0    5744    9       1   3      107  2017-11-10 04:00:00\n",
       "1         1  119901    9       1   3      466  2017-11-10 04:00:00\n",
       "2         2   72287   21       1  19      128  2017-11-10 04:00:00\n",
       "3         3   78477   15       1  13      111  2017-11-10 04:00:00\n",
       "4         4  123080   12       1  13      328  2017-11-10 04:00:00"
      ]
     },
     "execution_count": 7,
     "metadata": {},
     "output_type": "execute_result"
    }
   ],
   "source": [
    "test_df=pd.read_csv('test.csv',usecols=test_columns,dtype=dtypes)\n",
    "test_df.head()"
   ]
  },
  {
   "cell_type": "code",
   "execution_count": 8,
   "metadata": {},
   "outputs": [
    {
     "name": "stdout",
     "output_type": "stream",
     "text": [
      "['train', 'train'] 15.610MB\n",
      "['train_df', 'train_df'] 8897.589MB\n",
      "['test_df', 'test_df'] 1728.723MB\n",
      "10641.929MB\n"
     ]
    }
   ],
   "source": [
    "#checking the memory usage uptil now\n",
    "import sys\n",
    "show_mem_usage()"
   ]
  },
  {
   "cell_type": "code",
   "execution_count": 9,
   "metadata": {},
   "outputs": [
    {
     "data": {
      "image/png": "[encoded data removed]",
      "text/plain": [
       "<matplotlib.figure.Figure at 0x7f00d7dc1128>"
      ]
     },
     "metadata": {},
     "output_type": "display_data"
    }
   ],
   "source": [
    "#plotting unique features\n",
    "plt.figure(figsize=(15,8))\n",
    "cols=['ip','app','device','os','channel']\n",
    "unique_list=[len(train_df[col].unique()) for col in cols]\n",
    "sns.set(font_scale=1.2)\n",
    "ax = sns.barplot(cols, unique_list, log=True)\n",
    "ax.set(xlabel='Feature', ylabel='log(unique count)', title='Number of unique values per feature')\n",
    "for p, uniq in zip(ax.patches, unique_list):\n",
    "    height = p.get_height()\n",
    "    ax.text(p.get_x()+p.get_width()/2.,\n",
    "            height + 10,\n",
    "            uniq,\n",
    "            ha=\"center\") "
   ]
  },
  {
   "cell_type": "code",
   "execution_count": 10,
   "metadata": {},
   "outputs": [
    {
     "data": {
      "text/html": [
       "<div>\n",
       "<style>\n",
       "    .dataframe thead tr:only-child th {\n",
       "        text-align: right;\n",
       "    }\n",
       "\n",
       "    .dataframe thead th {\n",
       "        text-align: left;\n",
       "    }\n",
       "\n",
       "    .dataframe tbody tr th {\n",
       "        vertical-align: top;\n",
       "    }\n",
       "</style>\n",
       "<table border=\"1\" class=\"dataframe\">\n",
       "  <thead>\n",
       "    <tr style=\"text-align: right;\">\n",
       "      <th></th>\n",
       "      <th>ip</th>\n",
       "      <th>app</th>\n",
       "      <th>device</th>\n",
       "      <th>os</th>\n",
       "      <th>channel</th>\n",
       "      <th>is_attributed</th>\n",
       "    </tr>\n",
       "  </thead>\n",
       "  <tbody>\n",
       "    <tr>\n",
       "      <th>count</th>\n",
       "      <td>9.997291e+07</td>\n",
       "      <td>9.997291e+07</td>\n",
       "      <td>9.997291e+07</td>\n",
       "      <td>9.997291e+07</td>\n",
       "      <td>9.997291e+07</td>\n",
       "      <td>9.997291e+07</td>\n",
       "    </tr>\n",
       "    <tr>\n",
       "      <th>mean</th>\n",
       "      <td>9.371343e+04</td>\n",
       "      <td>1.161851e+01</td>\n",
       "      <td>1.239384e+01</td>\n",
       "      <td>2.102417e+01</td>\n",
       "      <td>2.692504e+02</td>\n",
       "      <td>2.436980e-03</td>\n",
       "    </tr>\n",
       "    <tr>\n",
       "      <th>std</th>\n",
       "      <td>7.673309e+04</td>\n",
       "      <td>1.367904e+01</td>\n",
       "      <td>2.031534e+02</td>\n",
       "      <td>4.729823e+01</td>\n",
       "      <td>1.299777e+02</td>\n",
       "      <td>4.930559e-02</td>\n",
       "    </tr>\n",
       "    <tr>\n",
       "      <th>min</th>\n",
       "      <td>1.000000e+00</td>\n",
       "      <td>0.000000e+00</td>\n",
       "      <td>0.000000e+00</td>\n",
       "      <td>0.000000e+00</td>\n",
       "      <td>0.000000e+00</td>\n",
       "      <td>0.000000e+00</td>\n",
       "    </tr>\n",
       "    <tr>\n",
       "      <th>25%</th>\n",
       "      <td>3.983900e+04</td>\n",
       "      <td>3.000000e+00</td>\n",
       "      <td>1.000000e+00</td>\n",
       "      <td>1.300000e+01</td>\n",
       "      <td>1.400000e+02</td>\n",
       "      <td>0.000000e+00</td>\n",
       "    </tr>\n",
       "    <tr>\n",
       "      <th>50%</th>\n",
       "      <td>7.878700e+04</td>\n",
       "      <td>1.100000e+01</td>\n",
       "      <td>1.000000e+00</td>\n",
       "      <td>1.800000e+01</td>\n",
       "      <td>2.590000e+02</td>\n",
       "      <td>0.000000e+00</td>\n",
       "    </tr>\n",
       "    <tr>\n",
       "      <th>75%</th>\n",
       "      <td>1.164720e+05</td>\n",
       "      <td>1.500000e+01</td>\n",
       "      <td>1.000000e+00</td>\n",
       "      <td>1.900000e+01</td>\n",
       "      <td>3.790000e+02</td>\n",
       "      <td>0.000000e+00</td>\n",
       "    </tr>\n",
       "    <tr>\n",
       "      <th>max</th>\n",
       "      <td>3.647780e+05</td>\n",
       "      <td>7.680000e+02</td>\n",
       "      <td>4.227000e+03</td>\n",
       "      <td>9.560000e+02</td>\n",
       "      <td>5.000000e+02</td>\n",
       "      <td>1.000000e+00</td>\n",
       "    </tr>\n",
       "  </tbody>\n",
       "</table>\n",
       "</div>"
      ],
      "text/plain": [
       "                 ip           app        device            os       channel  \\\n",
       "count  9.997291e+07  9.997291e+07  9.997291e+07  9.997291e+07  9.997291e+07   \n",
       "mean   9.371343e+04  1.161851e+01  1.239384e+01  2.102417e+01  2.692504e+02   \n",
       "std    7.673309e+04  1.367904e+01  2.031534e+02  4.729823e+01  1.299777e+02   \n",
       "min    1.000000e+00  0.000000e+00  0.000000e+00  0.000000e+00  0.000000e+00   \n",
       "25%    3.983900e+04  3.000000e+00  1.000000e+00  1.300000e+01  1.400000e+02   \n",
       "50%    7.878700e+04  1.100000e+01  1.000000e+00  1.800000e+01  2.590000e+02   \n",
       "75%    1.164720e+05  1.500000e+01  1.000000e+00  1.900000e+01  3.790000e+02   \n",
       "max    3.647780e+05  7.680000e+02  4.227000e+03  9.560000e+02  5.000000e+02   \n",
       "\n",
       "       is_attributed  \n",
       "count   9.997291e+07  \n",
       "mean    2.436980e-03  \n",
       "std     4.930559e-02  \n",
       "min     0.000000e+00  \n",
       "25%     0.000000e+00  \n",
       "50%     0.000000e+00  \n",
       "75%     0.000000e+00  \n",
       "max     1.000000e+00  "
      ]
     },
     "execution_count": 10,
     "metadata": {},
     "output_type": "execute_result"
    }
   ],
   "source": [
    "train_df.describe()"
   ]
  },
  {
   "cell_type": "markdown",
   "metadata": {},
   "source": [
    "### All the below distributions are meaningless as these are encoded variables which have different id's. Let us have a look though"
   ]
  },
  {
   "cell_type": "code",
   "execution_count": 11,
   "metadata": {},
   "outputs": [
    {
     "data": {
      "text/plain": [
       "<matplotlib.axes._subplots.AxesSubplot at 0x7f00d3ae7400>"
      ]
     },
     "execution_count": 11,
     "metadata": {},
     "output_type": "execute_result"
    },
    {
     "data": {
      "image/png": "[encoded data removed]",
      "text/plain": [
       "<matplotlib.figure.Figure at 0x7f00d3a998d0>"
      ]
     },
     "metadata": {},
     "output_type": "display_data"
    }
   ],
   "source": [
    "sns.distplot(train_df['app'])"
   ]
  },
  {
   "cell_type": "code",
   "execution_count": 12,
   "metadata": {},
   "outputs": [
    {
     "data": {
      "text/plain": [
       "<matplotlib.axes._subplots.AxesSubplot at 0x7f00d3971940>"
      ]
     },
     "execution_count": 12,
     "metadata": {},
     "output_type": "execute_result"
    },
    {
     "data": {
      "image/png": "[encoded data removed]",
      "text/plain": [
       "<matplotlib.figure.Figure at 0x7f00d3980cf8>"
      ]
     },
     "metadata": {},
     "output_type": "display_data"
    }
   ],
   "source": [
    "sns.boxplot(train_df['channel'])"
   ]
  },
  {
   "cell_type": "code",
   "execution_count": 13,
   "metadata": {},
   "outputs": [
    {
     "data": {
      "text/plain": [
       "<matplotlib.axes._subplots.AxesSubplot at 0x7f00d3e03860>"
      ]
     },
     "execution_count": 13,
     "metadata": {},
     "output_type": "execute_result"
    },
    {
     "data": {
      "image/png": "[encoded data removed]",
      "text/plain": [
       "<matplotlib.figure.Figure at 0x7f00d394b780>"
      ]
     },
     "metadata": {},
     "output_type": "display_data"
    }
   ],
   "source": [
    "sns.boxplot(train_df['device'])"
   ]
  },
  {
   "cell_type": "code",
   "execution_count": 14,
   "metadata": {},
   "outputs": [
    {
     "data": {
      "text/plain": [
       "<matplotlib.axes._subplots.AxesSubplot at 0x7f00d3b6e828>"
      ]
     },
     "execution_count": 14,
     "metadata": {},
     "output_type": "execute_result"
    },
    {
     "data": {
      "image/png": "[encoded data removed]",
      "text/plain": [
       "<matplotlib.figure.Figure at 0x7f00d3b2a9b0>"
      ]
     },
     "metadata": {},
     "output_type": "display_data"
    }
   ],
   "source": [
    "sns.distplot(train_df['device'])"
   ]
  },
  {
   "cell_type": "code",
   "execution_count": 15,
   "metadata": {},
   "outputs": [
    {
     "data": {
      "text/plain": [
       "<matplotlib.axes._subplots.AxesSubplot at 0x7f00d37b9198>"
      ]
     },
     "execution_count": 15,
     "metadata": {},
     "output_type": "execute_result"
    },
    {
     "data": {
      "image/png": "[encoded data removed]",
      "text/plain": [
       "<matplotlib.figure.Figure at 0x7f00d3758668>"
      ]
     },
     "metadata": {},
     "output_type": "display_data"
    }
   ],
   "source": [
    "sns.distplot(train_df['os'])"
   ]
  },
  {
   "cell_type": "markdown",
   "metadata": {},
   "source": [
    "### Let's have a look at the sample distribution of the target variable"
   ]
  },
  {
   "cell_type": "code",
   "execution_count": 16,
   "metadata": {},
   "outputs": [
    {
     "data": {
      "image/png": "[encoded data removed]",
      "text/plain": [
       "<matplotlib.figure.Figure at 0x7f00d3688b70>"
      ]
     },
     "metadata": {},
     "output_type": "display_data"
    }
   ],
   "source": [
    "#plotting target variable distribution\n",
    "plt.figure(figsize=(8, 8))\n",
    "sns.set(font_scale=1.2)\n",
    "mean = (train_df.is_attributed.values == 1).mean()\n",
    "ax = sns.barplot(['downloaded','Not downloaded'], [mean, 1-mean])\n",
    "ax.set(xlabel='Target Value', ylabel='Probability', title='Target value distribution')\n",
    "for p, uniq in zip(ax.patches, [mean, 1-mean]):\n",
    "    height = p.get_height()\n",
    "    ax.text(p.get_x()+p.get_width()/2.,\n",
    "            height+0.01,\n",
    "            '{}%'.format(round(uniq * 100, 2)),\n",
    "            ha=\"center\") "
   ]
  },
  {
   "cell_type": "markdown",
   "metadata": {},
   "source": [
    "We can see that the data is highly unbalanced, with the last 65  million rows only 0.24% of clicks leading to downloads. We will need to use feature engineering to create more features using click_time and possibly discard attributed_time, because that will be registered in click_time"
   ]
  },
  {
   "cell_type": "code",
   "execution_count": 17,
   "metadata": {
    "collapsed": true
   },
   "outputs": [],
   "source": [
    "y=train_df['is_attributed']\n",
    "train_df.drop(['is_attributed'],axis=1,inplace=True)"
   ]
  },
  {
   "cell_type": "code",
   "execution_count": 18,
   "metadata": {},
   "outputs": [
    {
     "data": {
      "text/plain": [
       "11061"
      ]
     },
     "execution_count": 18,
     "metadata": {},
     "output_type": "execute_result"
    }
   ],
   "source": [
    "import gc \n",
    "# Drop IP and ID from test rows\n",
    "sub = pd.DataFrame()\n",
    "sub['click_id'] = test_df['click_id'].astype('int')\n",
    "test_df.drop(['click_id'], axis=1, inplace=True)\n",
    "gc.collect()"
   ]
  },
  {
   "cell_type": "code",
   "execution_count": 19,
   "metadata": {},
   "outputs": [
    {
     "data": {
      "text/plain": [
       "38"
      ]
     },
     "execution_count": 19,
     "metadata": {},
     "output_type": "execute_result"
    }
   ],
   "source": [
    "len_train = len(train_df)\n",
    "train_df=train_df.append(test_df)\n",
    "\n",
    "del test_df\n",
    "\n",
    "gc.collect()\n"
   ]
  },
  {
   "cell_type": "code",
   "execution_count": 29,
   "metadata": {
    "collapsed": true
   },
   "outputs": [],
   "source": [
    "#feature engineering taken from https://www.kaggle.com/aharless/try-pranav-s-r-lgbm-in-python?scriptVersionId=3000126\n",
    "\n",
    "most_freq_hours_in_test_data = [4, 5, 9, 10, 13, 14]\n",
    "least_freq_hours_in_test_data = [6, 11, 15]\n",
    "\n",
    "def prep_data( df ):\n",
    "    \n",
    "    df['hour'] = pd.to_datetime(df.click_time).dt.hour.astype('uint8')\n",
    "    df['day'] = pd.to_datetime(df.click_time).dt.day.astype('uint8')\n",
    "    df.drop(['click_time'], axis=1, inplace=True)\n",
    "    gc.collect()\n",
    "    \n",
    "    df['in_test_hh'] = (   3 \n",
    "                         - 2*df['hour'].isin(  most_freq_hours_in_test_data ) \n",
    "                         - 1*df['hour'].isin( least_freq_hours_in_test_data ) ).astype('uint8')\n",
    "    print( df.info() )\n",
    "\n",
    "    print('group by : ip_day_test_hh')\n",
    "    gp = df[['ip', 'day', 'in_test_hh', 'channel']].groupby(by=['ip', 'day',\n",
    "             'in_test_hh'])[['channel']].count().reset_index().rename(index=str, \n",
    "             columns={'channel': 'nip_day_test_hh'})\n",
    "    df = df.merge(gp, on=['ip','day','in_test_hh'], how='left')\n",
    "    del gp\n",
    "    df.drop(['in_test_hh'], axis=1, inplace=True)\n",
    "    print( \"nip_day_test_hh max value = \", df.nip_day_test_hh.max() )\n",
    "    df['nip_day_test_hh'] = df['nip_day_test_hh'].astype('uint32')\n",
    "    gc.collect()\n",
    "    print( df.info() )\n",
    "\n",
    "    print('group by : ip_day_hh')\n",
    "    gp = df[['ip', 'day', 'hour', 'channel']].groupby(by=['ip', 'day', \n",
    "             'hour'])[['channel']].count().reset_index().rename(index=str, \n",
    "             columns={'channel': 'nip_day_hh'})\n",
    "    df = df.merge(gp, on=['ip','day','hour'], how='left')\n",
    "    del gp\n",
    "    print( \"nip_day_hh max value = \", df.nip_day_hh.max() )\n",
    "    df['nip_day_hh'] = df['nip_day_hh'].astype('uint16')\n",
    "    gc.collect()\n",
    "    print( df.info() )\n",
    "\n",
    "    print('group by : ip_hh_os')\n",
    "    gp = df[['ip', 'day', 'os', 'hour', 'channel']].groupby(by=['ip', 'os', 'day',\n",
    "             'hour'])[['channel']].count().reset_index().rename(index=str, \n",
    "             columns={'channel': 'nip_hh_os'})\n",
    "    df = df.merge(gp, on=['ip','os','hour','day'], how='left')\n",
    "    del gp\n",
    "    print( \"nip_hh_os max value = \", df.nip_hh_os.max() )\n",
    "    df['nip_hh_os'] = df['nip_hh_os'].astype('uint16')\n",
    "    gc.collect()\n",
    "    print( df.info() )\n",
    "\n",
    "    print('group by : ip_hh_app')\n",
    "    gp = df[['ip', 'app', 'hour', 'day', 'channel']].groupby(by=['ip', 'app', 'day',\n",
    "             'hour'])[['channel']].count().reset_index().rename(index=str, \n",
    "             columns={'channel': 'nip_hh_app'})\n",
    "    df = df.merge(gp, on=['ip','app','hour','day'], how='left')\n",
    "    del gp\n",
    "    print( \"nip_hh_app max value = \", df.nip_hh_app.max() )\n",
    "    df['nip_hh_app'] = df['nip_hh_app'].astype('uint16')\n",
    "    gc.collect()\n",
    "    print( df.info() )\n",
    "\n",
    "    print('group by : ip_hh_dev')\n",
    "    gp = df[['ip', 'device', 'hour', 'day', 'channel']].groupby(by=['ip', 'device', 'day',\n",
    "             'hour'])[['channel']].count().reset_index().rename(index=str, \n",
    "             columns={'channel': 'nip_hh_dev'})\n",
    "    df = df.merge(gp, on=['ip','device','day','hour'], how='left')\n",
    "    del gp\n",
    "    print( \"nip_hh_dev max value = \", df.nip_hh_dev.max() )\n",
    "    df['nip_hh_dev'] = df['nip_hh_dev'].astype('uint32')\n",
    "    gc.collect()\n",
    "    print( df.info() )\n",
    "\n",
    "    df.drop( ['ip','day'], axis=1, inplace=True )\n",
    "    gc.collect()\n",
    "    print( df.info() )\n",
    "    \n",
    "    return( df )\n"
   ]
  },
  {
   "cell_type": "code",
   "execution_count": 30,
   "metadata": {},
   "outputs": [
    {
     "name": "stdout",
     "output_type": "stream",
     "text": [
      "Train info before: \n",
      "<class 'pandas.core.frame.DataFrame'>\n",
      "Int64Index: 118763379 entries, 0 to 18790468\n",
      "Data columns (total 6 columns):\n",
      "ip            uint32\n",
      "app           uint16\n",
      "device        uint16\n",
      "os            uint16\n",
      "channel       uint16\n",
      "click_time    object\n",
      "dtypes: object(1), uint16(4), uint32(1)\n",
      "memory usage: 3.1+ GB\n",
      "None\n",
      "<class 'pandas.core.frame.DataFrame'>\n",
      "Int64Index: 118763379 entries, 0 to 18790468\n",
      "Data columns (total 8 columns):\n",
      "ip            uint32\n",
      "app           uint16\n",
      "device        uint16\n",
      "os            uint16\n",
      "channel       uint16\n",
      "hour          uint8\n",
      "day           uint8\n",
      "in_test_hh    uint8\n",
      "dtypes: uint16(4), uint32(1), uint8(3)\n",
      "memory usage: 2.5 GB\n",
      "None\n",
      "group by : ip_day_test_hh\n",
      "nip_day_test_hh max value =  182513\n",
      "<class 'pandas.core.frame.DataFrame'>\n",
      "Int64Index: 118763379 entries, 0 to 118763378\n",
      "Data columns (total 8 columns):\n",
      "ip                 uint32\n",
      "app                uint16\n",
      "device             uint16\n",
      "os                 uint16\n",
      "channel            uint16\n",
      "hour               uint8\n",
      "day                uint8\n",
      "nip_day_test_hh    uint32\n",
      "dtypes: uint16(4), uint32(2), uint8(2)\n",
      "memory usage: 2.9 GB\n",
      "None\n",
      "group by : ip_day_hh\n",
      "nip_day_hh max value =  43958\n",
      "<class 'pandas.core.frame.DataFrame'>\n",
      "Int64Index: 118763379 entries, 0 to 118763378\n",
      "Data columns (total 9 columns):\n",
      "ip                 uint32\n",
      "app                uint16\n",
      "device             uint16\n",
      "os                 uint16\n",
      "channel            uint16\n",
      "hour               uint8\n",
      "day                uint8\n",
      "nip_day_test_hh    uint32\n",
      "nip_day_hh         uint16\n",
      "dtypes: uint16(5), uint32(2), uint8(2)\n",
      "memory usage: 3.1 GB\n",
      "None\n",
      "group by : ip_hh_os\n",
      "nip_hh_os max value =  9382\n",
      "<class 'pandas.core.frame.DataFrame'>\n",
      "Int64Index: 118763379 entries, 0 to 118763378\n",
      "Data columns (total 10 columns):\n",
      "ip                 uint32\n",
      "app                uint16\n",
      "device             uint16\n",
      "os                 uint16\n",
      "channel            uint16\n",
      "hour               uint8\n",
      "day                uint8\n",
      "nip_day_test_hh    uint32\n",
      "nip_day_hh         uint16\n",
      "nip_hh_os          uint16\n",
      "dtypes: uint16(6), uint32(2), uint8(2)\n",
      "memory usage: 3.3 GB\n",
      "None\n",
      "group by : ip_hh_app\n",
      "nip_hh_app max value =  7592\n",
      "<class 'pandas.core.frame.DataFrame'>\n",
      "Int64Index: 118763379 entries, 0 to 118763378\n",
      "Data columns (total 11 columns):\n",
      "ip                 uint32\n",
      "app                uint16\n",
      "device             uint16\n",
      "os                 uint16\n",
      "channel            uint16\n",
      "hour               uint8\n",
      "day                uint8\n",
      "nip_day_test_hh    uint32\n",
      "nip_day_hh         uint16\n",
      "nip_hh_os          uint16\n",
      "nip_hh_app         uint16\n",
      "dtypes: uint16(7), uint32(2), uint8(2)\n",
      "memory usage: 3.5 GB\n",
      "None\n",
      "group by : ip_hh_dev\n",
      "nip_hh_dev max value =  37581\n",
      "<class 'pandas.core.frame.DataFrame'>\n",
      "Int64Index: 118763379 entries, 0 to 118763378\n",
      "Data columns (total 12 columns):\n",
      "ip                 uint32\n",
      "app                uint16\n",
      "device             uint16\n",
      "os                 uint16\n",
      "channel            uint16\n",
      "hour               uint8\n",
      "day                uint8\n",
      "nip_day_test_hh    uint32\n",
      "nip_day_hh         uint16\n",
      "nip_hh_os          uint16\n",
      "nip_hh_app         uint16\n",
      "nip_hh_dev         uint32\n",
      "dtypes: uint16(7), uint32(3), uint8(2)\n",
      "memory usage: 4.0 GB\n",
      "None\n",
      "<class 'pandas.core.frame.DataFrame'>\n",
      "Int64Index: 118763379 entries, 0 to 118763378\n",
      "Data columns (total 10 columns):\n",
      "app                uint16\n",
      "device             uint16\n",
      "os                 uint16\n",
      "channel            uint16\n",
      "hour               uint8\n",
      "nip_day_test_hh    uint32\n",
      "nip_day_hh         uint16\n",
      "nip_hh_os          uint16\n",
      "nip_hh_app         uint16\n",
      "nip_hh_dev         uint32\n",
      "dtypes: uint16(7), uint32(2), uint8(1)\n",
      "memory usage: 3.4 GB\n",
      "None\n",
      "Train info after: \n",
      "<class 'pandas.core.frame.DataFrame'>\n",
      "Int64Index: 118763379 entries, 0 to 118763378\n",
      "Data columns (total 10 columns):\n",
      "app                uint16\n",
      "device             uint16\n",
      "os                 uint16\n",
      "channel            uint16\n",
      "hour               uint8\n",
      "nip_day_test_hh    uint32\n",
      "nip_day_hh         uint16\n",
      "nip_hh_os          uint16\n",
      "nip_hh_app         uint16\n",
      "nip_hh_dev         uint32\n",
      "dtypes: uint16(7), uint32(2), uint8(1)\n",
      "memory usage: 3.4 GB\n",
      "None\n"
     ]
    }
   ],
   "source": [
    "print( \"Train info before: \")\n",
    "print( train_df.info() )\n",
    "train_df = prep_data( train_df )\n",
    "gc.collect()\n",
    "print( \"Train info after: \")\n",
    "print( train_df.info() )"
   ]
  },
  {
   "cell_type": "code",
   "execution_count": 26,
   "metadata": {},
   "outputs": [
    {
     "name": "stdout",
     "output_type": "stream",
     "text": [
      "['train', 'train'] 15.610MB\n",
      "['train_df', 'train_df'] 3021.660MB\n",
      "['y', 'y'] 99.973MB\n",
      "['sub', 'sub'] 150.324MB\n",
      "['test_df', 'test_df'] 582.505MB\n",
      "['val_df', 'val_df'] 77.500MB\n",
      "3947.587MB\n"
     ]
    }
   ],
   "source": [
    "show_mem_usage()"
   ]
  },
  {
   "cell_type": "code",
   "execution_count": 31,
   "metadata": {},
   "outputs": [
    {
     "data": {
      "text/html": [
       "<div>\n",
       "<style>\n",
       "    .dataframe thead tr:only-child th {\n",
       "        text-align: right;\n",
       "    }\n",
       "\n",
       "    .dataframe thead th {\n",
       "        text-align: left;\n",
       "    }\n",
       "\n",
       "    .dataframe tbody tr th {\n",
       "        vertical-align: top;\n",
       "    }\n",
       "</style>\n",
       "<table border=\"1\" class=\"dataframe\">\n",
       "  <thead>\n",
       "    <tr style=\"text-align: right;\">\n",
       "      <th></th>\n",
       "      <th>app</th>\n",
       "      <th>device</th>\n",
       "      <th>os</th>\n",
       "      <th>channel</th>\n",
       "      <th>hour</th>\n",
       "      <th>nip_day_test_hh</th>\n",
       "      <th>nip_day_hh</th>\n",
       "      <th>nip_hh_os</th>\n",
       "      <th>nip_hh_app</th>\n",
       "      <th>nip_hh_dev</th>\n",
       "    </tr>\n",
       "  </thead>\n",
       "  <tbody>\n",
       "    <tr>\n",
       "      <th>0</th>\n",
       "      <td>24</td>\n",
       "      <td>1</td>\n",
       "      <td>19</td>\n",
       "      <td>105</td>\n",
       "      <td>4</td>\n",
       "      <td>25</td>\n",
       "      <td>7</td>\n",
       "      <td>7</td>\n",
       "      <td>4</td>\n",
       "      <td>7</td>\n",
       "    </tr>\n",
       "    <tr>\n",
       "      <th>1</th>\n",
       "      <td>21</td>\n",
       "      <td>1</td>\n",
       "      <td>9</td>\n",
       "      <td>128</td>\n",
       "      <td>4</td>\n",
       "      <td>270</td>\n",
       "      <td>41</td>\n",
       "      <td>2</td>\n",
       "      <td>2</td>\n",
       "      <td>41</td>\n",
       "    </tr>\n",
       "    <tr>\n",
       "      <th>2</th>\n",
       "      <td>3</td>\n",
       "      <td>1</td>\n",
       "      <td>19</td>\n",
       "      <td>137</td>\n",
       "      <td>4</td>\n",
       "      <td>551</td>\n",
       "      <td>35</td>\n",
       "      <td>21</td>\n",
       "      <td>14</td>\n",
       "      <td>35</td>\n",
       "    </tr>\n",
       "    <tr>\n",
       "      <th>3</th>\n",
       "      <td>3</td>\n",
       "      <td>1</td>\n",
       "      <td>19</td>\n",
       "      <td>205</td>\n",
       "      <td>4</td>\n",
       "      <td>55</td>\n",
       "      <td>33</td>\n",
       "      <td>32</td>\n",
       "      <td>5</td>\n",
       "      <td>33</td>\n",
       "    </tr>\n",
       "    <tr>\n",
       "      <th>4</th>\n",
       "      <td>1</td>\n",
       "      <td>1</td>\n",
       "      <td>37</td>\n",
       "      <td>137</td>\n",
       "      <td>4</td>\n",
       "      <td>3570</td>\n",
       "      <td>172</td>\n",
       "      <td>2</td>\n",
       "      <td>4</td>\n",
       "      <td>172</td>\n",
       "    </tr>\n",
       "  </tbody>\n",
       "</table>\n",
       "</div>"
      ],
      "text/plain": [
       "   app  device  os  channel  hour  nip_day_test_hh  nip_day_hh  nip_hh_os  \\\n",
       "0   24       1  19      105     4               25           7          7   \n",
       "1   21       1   9      128     4              270          41          2   \n",
       "2    3       1  19      137     4              551          35         21   \n",
       "3    3       1  19      205     4               55          33         32   \n",
       "4    1       1  37      137     4             3570         172          2   \n",
       "\n",
       "   nip_hh_app  nip_hh_dev  \n",
       "0           4           7  \n",
       "1           2          41  \n",
       "2          14          35  \n",
       "3           5          33  \n",
       "4           4         172  "
      ]
     },
     "execution_count": 31,
     "metadata": {},
     "output_type": "execute_result"
    }
   ],
   "source": [
    "train_df.head()"
   ]
  },
  {
   "cell_type": "code",
   "execution_count": 32,
   "metadata": {},
   "outputs": [
    {
     "name": "stdout",
     "output_type": "stream",
     "text": [
      "99972910\n",
      "118763379\n"
     ]
    },
    {
     "data": {
      "text/plain": [
       "(None, None, (118763379, 10))"
      ]
     },
     "execution_count": 32,
     "metadata": {},
     "output_type": "execute_result"
    }
   ],
   "source": [
    "print (len_train),print(len(train_df)),train_df.shape"
   ]
  },
  {
   "cell_type": "code",
   "execution_count": 33,
   "metadata": {},
   "outputs": [
    {
     "name": "stdout",
     "output_type": "stream",
     "text": [
      "18790469\n"
     ]
    },
    {
     "data": {
      "text/plain": [
       "'val_df = train_df[(len_train-2500000):len_train]\\nprint(len(val_df))\\ntrain_df = train_df[:(len_train-2500000)]\\nprint(len(train_df))'"
      ]
     },
     "execution_count": 33,
     "metadata": {},
     "output_type": "execute_result"
    }
   ],
   "source": [
    "test_df = train_df[len_train:]\n",
    "print(len(test_df))\n",
    "\n",
    "\n"
   ]
  },
  {
   "cell_type": "code",
   "execution_count": 34,
   "metadata": {},
   "outputs": [
    {
     "name": "stdout",
     "output_type": "stream",
     "text": [
      "2500000\n"
     ]
    }
   ],
   "source": [
    "val_df = train_df[(len_train-2500000):len_train]\n",
    "print(len(val_df))\n"
   ]
  },
  {
   "cell_type": "code",
   "execution_count": 35,
   "metadata": {},
   "outputs": [
    {
     "name": "stdout",
     "output_type": "stream",
     "text": [
      "97472910\n"
     ]
    }
   ],
   "source": [
    "train_df = train_df[:(len_train-2500000)]\n",
    "print(len(train_df))"
   ]
  },
  {
   "cell_type": "code",
   "execution_count": 36,
   "metadata": {},
   "outputs": [
    {
     "data": {
      "text/html": [
       "<div>\n",
       "<style>\n",
       "    .dataframe thead tr:only-child th {\n",
       "        text-align: right;\n",
       "    }\n",
       "\n",
       "    .dataframe thead th {\n",
       "        text-align: left;\n",
       "    }\n",
       "\n",
       "    .dataframe tbody tr th {\n",
       "        vertical-align: top;\n",
       "    }\n",
       "</style>\n",
       "<table border=\"1\" class=\"dataframe\">\n",
       "  <thead>\n",
       "    <tr style=\"text-align: right;\">\n",
       "      <th></th>\n",
       "      <th>app</th>\n",
       "      <th>device</th>\n",
       "      <th>os</th>\n",
       "      <th>channel</th>\n",
       "      <th>hour</th>\n",
       "      <th>nip_day_test_hh</th>\n",
       "      <th>nip_day_hh</th>\n",
       "      <th>nip_hh_os</th>\n",
       "      <th>nip_hh_app</th>\n",
       "      <th>nip_hh_dev</th>\n",
       "    </tr>\n",
       "  </thead>\n",
       "  <tbody>\n",
       "    <tr>\n",
       "      <th>0</th>\n",
       "      <td>24</td>\n",
       "      <td>1</td>\n",
       "      <td>19</td>\n",
       "      <td>105</td>\n",
       "      <td>4</td>\n",
       "      <td>25</td>\n",
       "      <td>7</td>\n",
       "      <td>7</td>\n",
       "      <td>4</td>\n",
       "      <td>7</td>\n",
       "    </tr>\n",
       "    <tr>\n",
       "      <th>1</th>\n",
       "      <td>21</td>\n",
       "      <td>1</td>\n",
       "      <td>9</td>\n",
       "      <td>128</td>\n",
       "      <td>4</td>\n",
       "      <td>270</td>\n",
       "      <td>41</td>\n",
       "      <td>2</td>\n",
       "      <td>2</td>\n",
       "      <td>41</td>\n",
       "    </tr>\n",
       "    <tr>\n",
       "      <th>2</th>\n",
       "      <td>3</td>\n",
       "      <td>1</td>\n",
       "      <td>19</td>\n",
       "      <td>137</td>\n",
       "      <td>4</td>\n",
       "      <td>551</td>\n",
       "      <td>35</td>\n",
       "      <td>21</td>\n",
       "      <td>14</td>\n",
       "      <td>35</td>\n",
       "    </tr>\n",
       "    <tr>\n",
       "      <th>3</th>\n",
       "      <td>3</td>\n",
       "      <td>1</td>\n",
       "      <td>19</td>\n",
       "      <td>205</td>\n",
       "      <td>4</td>\n",
       "      <td>55</td>\n",
       "      <td>33</td>\n",
       "      <td>32</td>\n",
       "      <td>5</td>\n",
       "      <td>33</td>\n",
       "    </tr>\n",
       "    <tr>\n",
       "      <th>4</th>\n",
       "      <td>1</td>\n",
       "      <td>1</td>\n",
       "      <td>37</td>\n",
       "      <td>137</td>\n",
       "      <td>4</td>\n",
       "      <td>3570</td>\n",
       "      <td>172</td>\n",
       "      <td>2</td>\n",
       "      <td>4</td>\n",
       "      <td>172</td>\n",
       "    </tr>\n",
       "  </tbody>\n",
       "</table>\n",
       "</div>"
      ],
      "text/plain": [
       "   app  device  os  channel  hour  nip_day_test_hh  nip_day_hh  nip_hh_os  \\\n",
       "0   24       1  19      105     4               25           7          7   \n",
       "1   21       1   9      128     4              270          41          2   \n",
       "2    3       1  19      137     4              551          35         21   \n",
       "3    3       1  19      205     4               55          33         32   \n",
       "4    1       1  37      137     4             3570         172          2   \n",
       "\n",
       "   nip_hh_app  nip_hh_dev  \n",
       "0           4           7  \n",
       "1           2          41  \n",
       "2          14          35  \n",
       "3           5          33  \n",
       "4           4         172  "
      ]
     },
     "execution_count": 36,
     "metadata": {},
     "output_type": "execute_result"
    }
   ],
   "source": [
    "train_df.head()"
   ]
  },
  {
   "cell_type": "code",
   "execution_count": 37,
   "metadata": {},
   "outputs": [
    {
     "data": {
      "text/html": [
       "<div>\n",
       "<style>\n",
       "    .dataframe thead tr:only-child th {\n",
       "        text-align: right;\n",
       "    }\n",
       "\n",
       "    .dataframe thead th {\n",
       "        text-align: left;\n",
       "    }\n",
       "\n",
       "    .dataframe tbody tr th {\n",
       "        vertical-align: top;\n",
       "    }\n",
       "</style>\n",
       "<table border=\"1\" class=\"dataframe\">\n",
       "  <thead>\n",
       "    <tr style=\"text-align: right;\">\n",
       "      <th></th>\n",
       "      <th>app</th>\n",
       "      <th>device</th>\n",
       "      <th>os</th>\n",
       "      <th>channel</th>\n",
       "      <th>hour</th>\n",
       "      <th>nip_day_test_hh</th>\n",
       "      <th>nip_day_hh</th>\n",
       "      <th>nip_hh_os</th>\n",
       "      <th>nip_hh_app</th>\n",
       "      <th>nip_hh_dev</th>\n",
       "    </tr>\n",
       "  </thead>\n",
       "  <tbody>\n",
       "    <tr>\n",
       "      <th>99972910</th>\n",
       "      <td>9</td>\n",
       "      <td>1</td>\n",
       "      <td>3</td>\n",
       "      <td>107</td>\n",
       "      <td>4</td>\n",
       "      <td>91</td>\n",
       "      <td>34</td>\n",
       "      <td>3</td>\n",
       "      <td>8</td>\n",
       "      <td>34</td>\n",
       "    </tr>\n",
       "    <tr>\n",
       "      <th>99972911</th>\n",
       "      <td>9</td>\n",
       "      <td>1</td>\n",
       "      <td>3</td>\n",
       "      <td>466</td>\n",
       "      <td>4</td>\n",
       "      <td>2083</td>\n",
       "      <td>403</td>\n",
       "      <td>17</td>\n",
       "      <td>50</td>\n",
       "      <td>400</td>\n",
       "    </tr>\n",
       "    <tr>\n",
       "      <th>99972912</th>\n",
       "      <td>21</td>\n",
       "      <td>1</td>\n",
       "      <td>19</td>\n",
       "      <td>128</td>\n",
       "      <td>4</td>\n",
       "      <td>2135</td>\n",
       "      <td>229</td>\n",
       "      <td>69</td>\n",
       "      <td>13</td>\n",
       "      <td>229</td>\n",
       "    </tr>\n",
       "    <tr>\n",
       "      <th>99972913</th>\n",
       "      <td>15</td>\n",
       "      <td>1</td>\n",
       "      <td>13</td>\n",
       "      <td>111</td>\n",
       "      <td>4</td>\n",
       "      <td>1201</td>\n",
       "      <td>239</td>\n",
       "      <td>98</td>\n",
       "      <td>10</td>\n",
       "      <td>239</td>\n",
       "    </tr>\n",
       "    <tr>\n",
       "      <th>99972914</th>\n",
       "      <td>12</td>\n",
       "      <td>1</td>\n",
       "      <td>13</td>\n",
       "      <td>328</td>\n",
       "      <td>4</td>\n",
       "      <td>208</td>\n",
       "      <td>60</td>\n",
       "      <td>27</td>\n",
       "      <td>7</td>\n",
       "      <td>59</td>\n",
       "    </tr>\n",
       "  </tbody>\n",
       "</table>\n",
       "</div>"
      ],
      "text/plain": [
       "          app  device  os  channel  hour  nip_day_test_hh  nip_day_hh  \\\n",
       "99972910    9       1   3      107     4               91          34   \n",
       "99972911    9       1   3      466     4             2083         403   \n",
       "99972912   21       1  19      128     4             2135         229   \n",
       "99972913   15       1  13      111     4             1201         239   \n",
       "99972914   12       1  13      328     4              208          60   \n",
       "\n",
       "          nip_hh_os  nip_hh_app  nip_hh_dev  \n",
       "99972910          3           8          34  \n",
       "99972911         17          50         400  \n",
       "99972912         69          13         229  \n",
       "99972913         98          10         239  \n",
       "99972914         27           7          59  "
      ]
     },
     "execution_count": 37,
     "metadata": {},
     "output_type": "execute_result"
    }
   ],
   "source": [
    "test_df.head()"
   ]
  },
  {
   "cell_type": "code",
   "execution_count": 38,
   "metadata": {},
   "outputs": [
    {
     "data": {
      "text/plain": [
       "386"
      ]
     },
     "execution_count": 38,
     "metadata": {},
     "output_type": "execute_result"
    }
   ],
   "source": [
    "y_train,y_val=y[:len(y)-2500000],y[len(y)-2500000:]\n",
    "y_train.shape,y_val.shape\n",
    "del y\n",
    "gc.collect()"
   ]
  },
  {
   "cell_type": "code",
   "execution_count": 39,
   "metadata": {},
   "outputs": [
    {
     "name": "stdout",
     "output_type": "stream",
     "text": [
      "['train', 'train'] 15.610MB\n",
      "['train_df', 'train_df'] 3021.660MB\n",
      "['sub', 'sub'] 150.324MB\n",
      "['test_df', 'test_df'] 582.505MB\n",
      "['val_df', 'val_df'] 77.500MB\n",
      "['y_train', 'y_train'] 97.473MB\n",
      "['y_val', 'y_val'] 2.500MB\n",
      "3947.590MB\n"
     ]
    }
   ],
   "source": [
    "show_mem_usage()"
   ]
  },
  {
   "cell_type": "code",
   "execution_count": 41,
   "metadata": {},
   "outputs": [
    {
     "name": "stdout",
     "output_type": "stream",
     "text": [
      "   app  device  os  channel  hour  nip_day_test_hh  nip_day_hh  nip_hh_os  \\\n",
      "0   24       1  19      105     4               25           7          7   \n",
      "1   21       1   9      128     4              270          41          2   \n",
      "2    3       1  19      137     4              551          35         21   \n",
      "3    3       1  19      205     4               55          33         32   \n",
      "4    1       1  37      137     4             3570         172          2   \n",
      "\n",
      "   nip_hh_app  nip_hh_dev  \n",
      "0           4           7  \n",
      "1           2          41  \n",
      "2          14          35  \n",
      "3           5          33  \n",
      "4           4         172  \n"
     ]
    }
   ],
   "source": [
    "#defining the model features\n",
    "import lightgbm as lgb\n",
    "metrics = 'auc'\n",
    "lgb_params = {\n",
    "        'boosting_type': 'gbdt',\n",
    "        'objective': 'binary',\n",
    "        'metric':metrics,\n",
    "        'learning_rate': 0.1,\n",
    "        'num_leaves': 7,  # we should let it be smaller than 2^(max_depth)\n",
    "        'max_depth': 4,  # -1 means no limit\n",
    "        'min_child_samples': 100,  # Minimum number of data need in a child(min_data_in_leaf)\n",
    "        'max_bin': 100,  # Number of bucketed bin for feature values\n",
    "        'subsample': 0.7,  # Subsample ratio of the training instance.\n",
    "        'subsample_freq': 1,  # frequence of subsample, <=0 means no enable\n",
    "        'colsample_bytree': 0.7,  # Subsample ratio of columns when constructing each tree.\n",
    "        'min_child_weight': 0,  # Minimum sum of instance weight(hessian) needed in a child(leaf)\n",
    "        'min_split_gain': 0,  # lambda_l1, lambda_l2 and min_gain_to_split to regularization\n",
    "        'nthread': 8,\n",
    "        'verbose': 0,\n",
    "        'scale_pos_weight':99.7, # because training data is extremely unbalanced \n",
    "        'metric':metrics\n",
    "}\n",
    "\n",
    "target = 'is_attributed'\n",
    "predictors = ['app','device','os', 'channel', 'hour', 'nip_day_test_hh', 'nip_day_hh',\n",
    "              'nip_hh_os', 'nip_hh_app', 'nip_hh_dev']\n",
    "categorical = ['app', 'device', 'os', 'channel', 'hour']\n",
    "\n",
    "print(train_df.head(5))\n",
    "\n"
   ]
  },
  {
   "cell_type": "code",
   "execution_count": 43,
   "metadata": {},
   "outputs": [
    {
     "data": {
      "text/plain": [
       "114"
      ]
     },
     "execution_count": 43,
     "metadata": {},
     "output_type": "execute_result"
    }
   ],
   "source": [
    "MAX_ROUNDS = 1000\n",
    "EARLY_STOP = 50\n",
    "OPT_ROUNDS = 680\n",
    "\n",
    "\n",
    "num_boost_round=MAX_ROUNDS\n",
    "early_stopping_rounds=EARLY_STOP\n",
    "\n",
    "xgtrain = lgb.Dataset(train_df[predictors].values, label=y_train.values,\n",
    "                              feature_name=predictors,\n",
    "                              categorical_feature=categorical\n",
    "                              )\n",
    "del train_df\n",
    "gc.collect()\n",
    "\n",
    "xgvalid = lgb.Dataset(val_df[predictors].values, label=y_val.values,\n",
    "                              feature_name=predictors,\n",
    "                              categorical_feature=categorical\n",
    "                              )\n",
    "del val_df\n",
    "gc.collect()\n",
    "\n",
    "        "
   ]
  },
  {
   "cell_type": "code",
   "execution_count": 44,
   "metadata": {},
   "outputs": [
    {
     "name": "stderr",
     "output_type": "stream",
     "text": [
      "/home/nickkanakian7/anaconda3/lib/python3.6/site-packages/lightgbm/basic.py:1036: UserWarning: Using categorical_feature in Dataset.\n",
      "  warnings.warn('Using categorical_feature in Dataset.')\n",
      "/home/nickkanakian7/anaconda3/lib/python3.6/site-packages/lightgbm/basic.py:681: UserWarning: categorical_feature in param dict is overrided.\n",
      "  warnings.warn('categorical_feature in param dict is overrided.')\n"
     ]
    },
    {
     "name": "stdout",
     "output_type": "stream",
     "text": [
      "Training until validation scores don't improve for 50 rounds.\n",
      "[10]\tvalid's auc: 0.976514\n",
      "[20]\tvalid's auc: 0.978705\n",
      "[30]\tvalid's auc: 0.979753\n",
      "[40]\tvalid's auc: 0.980455\n",
      "[50]\tvalid's auc: 0.981668\n",
      "[60]\tvalid's auc: 0.982361\n",
      "[70]\tvalid's auc: 0.982723\n",
      "[80]\tvalid's auc: 0.983062\n",
      "[90]\tvalid's auc: 0.983589\n",
      "[100]\tvalid's auc: 0.983825\n",
      "[110]\tvalid's auc: 0.983959\n",
      "[120]\tvalid's auc: 0.984161\n",
      "[130]\tvalid's auc: 0.984295\n",
      "[140]\tvalid's auc: 0.984563\n",
      "[150]\tvalid's auc: 0.984769\n",
      "[160]\tvalid's auc: 0.984921\n",
      "[170]\tvalid's auc: 0.985096\n",
      "[180]\tvalid's auc: 0.985263\n",
      "[190]\tvalid's auc: 0.98525\n",
      "[200]\tvalid's auc: 0.985316\n",
      "[210]\tvalid's auc: 0.985389\n",
      "[220]\tvalid's auc: 0.985438\n",
      "[230]\tvalid's auc: 0.985494\n",
      "[240]\tvalid's auc: 0.985449\n",
      "[250]\tvalid's auc: 0.98551\n",
      "[260]\tvalid's auc: 0.985575\n",
      "[270]\tvalid's auc: 0.985588\n",
      "[280]\tvalid's auc: 0.985621\n",
      "[290]\tvalid's auc: 0.985694\n",
      "[300]\tvalid's auc: 0.985774\n",
      "[310]\tvalid's auc: 0.985819\n",
      "[320]\tvalid's auc: 0.985872\n",
      "[330]\tvalid's auc: 0.985861\n",
      "[340]\tvalid's auc: 0.985972\n",
      "[350]\tvalid's auc: 0.986078\n",
      "[360]\tvalid's auc: 0.986091\n",
      "[370]\tvalid's auc: 0.986105\n",
      "[380]\tvalid's auc: 0.986112\n",
      "[390]\tvalid's auc: 0.986146\n",
      "[400]\tvalid's auc: 0.986194\n",
      "[410]\tvalid's auc: 0.986213\n",
      "[420]\tvalid's auc: 0.986237\n",
      "[430]\tvalid's auc: 0.986227\n",
      "[440]\tvalid's auc: 0.98626\n",
      "[450]\tvalid's auc: 0.986316\n",
      "[460]\tvalid's auc: 0.986333\n",
      "[470]\tvalid's auc: 0.986327\n",
      "[480]\tvalid's auc: 0.986313\n",
      "[490]\tvalid's auc: 0.98635\n",
      "[500]\tvalid's auc: 0.986343\n",
      "[510]\tvalid's auc: 0.986357\n",
      "[520]\tvalid's auc: 0.9864\n",
      "[530]\tvalid's auc: 0.986443\n",
      "[540]\tvalid's auc: 0.98644\n",
      "[550]\tvalid's auc: 0.986443\n",
      "[560]\tvalid's auc: 0.986415\n",
      "[570]\tvalid's auc: 0.986443\n",
      "[580]\tvalid's auc: 0.986475\n",
      "[590]\tvalid's auc: 0.986484\n",
      "[600]\tvalid's auc: 0.986477\n",
      "[610]\tvalid's auc: 0.986491\n",
      "[620]\tvalid's auc: 0.98651\n",
      "[630]\tvalid's auc: 0.986553\n",
      "[640]\tvalid's auc: 0.986578\n",
      "[650]\tvalid's auc: 0.98659\n",
      "[660]\tvalid's auc: 0.986602\n",
      "[670]\tvalid's auc: 0.986603\n",
      "[680]\tvalid's auc: 0.986616\n",
      "[690]\tvalid's auc: 0.98663\n",
      "[700]\tvalid's auc: 0.986647\n",
      "[710]\tvalid's auc: 0.986655\n",
      "[720]\tvalid's auc: 0.986673\n",
      "[730]\tvalid's auc: 0.986666\n",
      "[740]\tvalid's auc: 0.986672\n",
      "[750]\tvalid's auc: 0.986686\n",
      "[760]\tvalid's auc: 0.986701\n",
      "[770]\tvalid's auc: 0.986721\n",
      "[780]\tvalid's auc: 0.986709\n",
      "[790]\tvalid's auc: 0.986703\n",
      "[800]\tvalid's auc: 0.986723\n",
      "[810]\tvalid's auc: 0.986735\n",
      "[820]\tvalid's auc: 0.986734\n",
      "[830]\tvalid's auc: 0.986759\n",
      "[840]\tvalid's auc: 0.986793\n",
      "[850]\tvalid's auc: 0.986794\n",
      "[860]\tvalid's auc: 0.986803\n",
      "[870]\tvalid's auc: 0.986827\n",
      "[880]\tvalid's auc: 0.986828\n",
      "[890]\tvalid's auc: 0.986843\n",
      "[900]\tvalid's auc: 0.986848\n",
      "[910]\tvalid's auc: 0.986857\n",
      "[920]\tvalid's auc: 0.986882\n",
      "[930]\tvalid's auc: 0.986895\n",
      "[940]\tvalid's auc: 0.986921\n",
      "[950]\tvalid's auc: 0.98692\n",
      "[960]\tvalid's auc: 0.986927\n",
      "[970]\tvalid's auc: 0.986971\n",
      "[980]\tvalid's auc: 0.986942\n",
      "[990]\tvalid's auc: 0.986931\n",
      "[1000]\tvalid's auc: 0.986935\n",
      "Did not meet early stopping. Best iteration is:\n",
      "[968]\tvalid's auc: 0.986976\n",
      "\n",
      "Model Report\n",
      "n_estimators :  968\n",
      "auc: 0.98697601701\n"
     ]
    },
    {
     "ename": "NameError",
     "evalue": "name 'VALID_OUTFILE' is not defined",
     "output_type": "error",
     "traceback": [
      "\u001b[0;31m---------------------------------------------------------------------------\u001b[0m",
      "\u001b[0;31mNameError\u001b[0m                                 Traceback (most recent call last)",
      "\u001b[0;32m<ipython-input-44-ab1ae0458d57>\u001b[0m in \u001b[0;36m<module>\u001b[0;34m()\u001b[0m\n\u001b[1;32m     13\u001b[0m \u001b[0mprint\u001b[0m\u001b[0;34m(\u001b[0m\u001b[0;34m\"n_estimators : \"\u001b[0m\u001b[0;34m,\u001b[0m \u001b[0mn_estimators\u001b[0m\u001b[0;34m)\u001b[0m\u001b[0;34m\u001b[0m\u001b[0m\n\u001b[1;32m     14\u001b[0m \u001b[0mprint\u001b[0m\u001b[0;34m(\u001b[0m\u001b[0mmetrics\u001b[0m\u001b[0;34m+\u001b[0m\u001b[0;34m\":\"\u001b[0m\u001b[0;34m,\u001b[0m \u001b[0mevals_results\u001b[0m\u001b[0;34m[\u001b[0m\u001b[0;34m'valid'\u001b[0m\u001b[0;34m]\u001b[0m\u001b[0;34m[\u001b[0m\u001b[0mmetrics\u001b[0m\u001b[0;34m]\u001b[0m\u001b[0;34m[\u001b[0m\u001b[0mn_estimators\u001b[0m\u001b[0;34m-\u001b[0m\u001b[0;36m1\u001b[0m\u001b[0;34m]\u001b[0m\u001b[0;34m)\u001b[0m\u001b[0;34m\u001b[0m\u001b[0m\n\u001b[0;32m---> 15\u001b[0;31m \u001b[0moutfile\u001b[0m \u001b[0;34m=\u001b[0m \u001b[0mVALID_OUTFILE\u001b[0m\u001b[0;34m\u001b[0m\u001b[0m\n\u001b[0m\u001b[1;32m     16\u001b[0m \u001b[0;32mdel\u001b[0m \u001b[0mxgvalid\u001b[0m\u001b[0;34m\u001b[0m\u001b[0m\n\u001b[1;32m     17\u001b[0m \u001b[0;34m\u001b[0m\u001b[0m\n",
      "\u001b[0;31mNameError\u001b[0m: name 'VALID_OUTFILE' is not defined"
     ]
    }
   ],
   "source": [
    "evals_results = {}\n",
    "\n",
    "bst = lgb.train(lgb_params,xgtrain, \n",
    "                         valid_sets= [xgvalid], \n",
    "                         valid_names=['valid'], \n",
    "                         evals_result=evals_results, \n",
    "                         num_boost_round=num_boost_round,\n",
    "                         early_stopping_rounds=early_stopping_rounds,\n",
    "                         verbose_eval=10, \n",
    "                         feval=None)\n",
    "n_estimators = bst.best_iteration\n",
    "print(\"\\nModel Report\")\n",
    "print(\"n_estimators : \", n_estimators)\n",
    "print(metrics+\":\", evals_results['valid'][metrics][n_estimators-1])\n",
    "\n",
    "del xgvalid\n",
    "\n"
   ]
  },
  {
   "cell_type": "code",
   "execution_count": 46,
   "metadata": {},
   "outputs": [
    {
     "name": "stdout",
     "output_type": "stream",
     "text": [
      "Predicting...\n",
      "writing...\n",
      "done...\n",
      "<class 'pandas.core.frame.DataFrame'>\n",
      "RangeIndex: 18790469 entries, 0 to 18790468\n",
      "Data columns (total 2 columns):\n",
      "click_id         int64\n",
      "is_attributed    float64\n",
      "dtypes: float64(1), int64(1)\n",
      "memory usage: 286.7 MB\n",
      "None\n"
     ]
    }
   ],
   "source": [
    "print(\"Predicting...\")\n",
    "sub['is_attributed'] = bst.predict(test_df[predictors])\n",
    "print(\"writing...\")\n",
    "sub.to_csv('outfile.csv', index=False, float_format='%.9f')\n",
    "print(\"done...\")\n",
    "print(sub.info())"
   ]
  },
  {
   "cell_type": "code",
   "execution_count": null,
   "metadata": {
    "collapsed": true
   },
   "outputs": [],
   "source": []
  }
 ],
 "metadata": {
  "kernelspec": {
   "display_name": "Python 3",
   "language": "python",
   "name": "python3"
  },
  "language_info": {
   "codemirror_mode": {
    "name": "ipython",
    "version": 3
   },
   "file_extension": ".py",
   "mimetype": "text/x-python",
   "name": "python",
   "nbconvert_exporter": "python",
   "pygments_lexer": "ipython3",
   "version": "3.6.3"
  }
 },
 "nbformat": 4,
 "nbformat_minor": 2
}
