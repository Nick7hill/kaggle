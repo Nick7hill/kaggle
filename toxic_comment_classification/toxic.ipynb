{
 "cells": [
  {
   "cell_type": "markdown",
   "metadata": {},
   "source": [
    "# Toxic Comment Classification Challenge\n",
    "\n",
    "This is a dataset of Comments taken from the kaggle competition that i am participating in. The aim of this competition is to classify the comments into different classes of toxicity.\n",
    "\n",
    "The dataset comprises of one feature, that is the comment itself, and it is a multiclass classification problem, involving, assigning a probability to each of the different classes ; namely \n",
    " - toxic\n",
    " - severe toxic\n",
    " - obscene\n",
    " - threat\n",
    " - insult\n",
    " - identity hate\n",
    " \n",
    "This classification problem allows the comments to be dealt accordingly , and action on these comments could be taken accordingly.\n",
    "\n",
    "We will start the problem by importing some of the necessary libraries, having a look at the dataset, preprocessing it, and then applying our model to it. \n",
    "\n",
    "So, let's start"
   ]
  },
  {
   "cell_type": "code",
   "execution_count": 1,
   "metadata": {},
   "outputs": [
    {
     "name": "stderr",
     "output_type": "stream",
     "text": [
      "Using TensorFlow backend.\n"
     ]
    }
   ],
   "source": [
    "import pandas as pd\n",
    "import numpy as np\n",
    "import matplotlib.pyplot as plt\n",
    "%matplotlib inline\n",
    "import IPython.display\n",
    "from keras.layers import Input,Dense,Dropout,Activation,Conv2D,SpatialDropout1D,Embedding,LSTM,GRU,Conv1D\n",
    "from keras.preprocessing.text import Tokenizer\n",
    "from keras.models import Model\n",
    "from keras.layers import Bidirectional, GlobalMaxPooling1D,GlobalAveragePooling1D,concatenate\n",
    "from keras.preprocessing.sequence import pad_sequences\n",
    "from keras.callbacks import ModelCheckpoint\n",
    "import keras\n",
    "import re\n",
    "from collections import defaultdict\n",
    "\n",
    "import nltk\n",
    "from nltk.corpus import stopwords\n",
    "import spacy\n",
    "from nltk import pos_tag\n",
    "from nltk.stem.wordnet import WordNetLemmatizer \n",
    "from nltk.tokenize import word_tokenize\n",
    "# Tweet tokenizer does not split at apostophes which is what we want\n",
    "from nltk.tokenize import TweetTokenizer   \n",
    "\n",
    "from wordcloud import WordCloud ,STOPWORDS\n",
    "from PIL import Image\n",
    "\n",
    "eng_stopwords = set(stopwords.words(\"english\"))\n",
    "\n",
    "\n",
    "lem = WordNetLemmatizer()\n",
    "tokenizer=TweetTokenizer()"
   ]
  },
  {
   "cell_type": "code",
   "execution_count": 2,
   "metadata": {
    "collapsed": true
   },
   "outputs": [],
   "source": [
    "train=pd.read_csv('train.csv')\n",
    "test=pd.read_csv('test.csv')"
   ]
  },
  {
   "cell_type": "code",
   "execution_count": 3,
   "metadata": {},
   "outputs": [
    {
     "data": {
      "text/html": [
       "<div>\n",
       "<style>\n",
       "    .dataframe thead tr:only-child th {\n",
       "        text-align: right;\n",
       "    }\n",
       "\n",
       "    .dataframe thead th {\n",
       "        text-align: left;\n",
       "    }\n",
       "\n",
       "    .dataframe tbody tr th {\n",
       "        vertical-align: top;\n",
       "    }\n",
       "</style>\n",
       "<table border=\"1\" class=\"dataframe\">\n",
       "  <thead>\n",
       "    <tr style=\"text-align: right;\">\n",
       "      <th></th>\n",
       "      <th>id</th>\n",
       "      <th>comment_text</th>\n",
       "      <th>toxic</th>\n",
       "      <th>severe_toxic</th>\n",
       "      <th>obscene</th>\n",
       "      <th>threat</th>\n",
       "      <th>insult</th>\n",
       "      <th>identity_hate</th>\n",
       "    </tr>\n",
       "  </thead>\n",
       "  <tbody>\n",
       "    <tr>\n",
       "      <th>0</th>\n",
       "      <td>0000997932d777bf</td>\n",
       "      <td>Explanation\\nWhy the edits made under my usern...</td>\n",
       "      <td>0</td>\n",
       "      <td>0</td>\n",
       "      <td>0</td>\n",
       "      <td>0</td>\n",
       "      <td>0</td>\n",
       "      <td>0</td>\n",
       "    </tr>\n",
       "    <tr>\n",
       "      <th>1</th>\n",
       "      <td>000103f0d9cfb60f</td>\n",
       "      <td>D'aww! He matches this background colour I'm s...</td>\n",
       "      <td>0</td>\n",
       "      <td>0</td>\n",
       "      <td>0</td>\n",
       "      <td>0</td>\n",
       "      <td>0</td>\n",
       "      <td>0</td>\n",
       "    </tr>\n",
       "    <tr>\n",
       "      <th>2</th>\n",
       "      <td>000113f07ec002fd</td>\n",
       "      <td>Hey man, I'm really not trying to edit war. It...</td>\n",
       "      <td>0</td>\n",
       "      <td>0</td>\n",
       "      <td>0</td>\n",
       "      <td>0</td>\n",
       "      <td>0</td>\n",
       "      <td>0</td>\n",
       "    </tr>\n",
       "    <tr>\n",
       "      <th>3</th>\n",
       "      <td>0001b41b1c6bb37e</td>\n",
       "      <td>\"\\nMore\\nI can't make any real suggestions on ...</td>\n",
       "      <td>0</td>\n",
       "      <td>0</td>\n",
       "      <td>0</td>\n",
       "      <td>0</td>\n",
       "      <td>0</td>\n",
       "      <td>0</td>\n",
       "    </tr>\n",
       "    <tr>\n",
       "      <th>4</th>\n",
       "      <td>0001d958c54c6e35</td>\n",
       "      <td>You, sir, are my hero. Any chance you remember...</td>\n",
       "      <td>0</td>\n",
       "      <td>0</td>\n",
       "      <td>0</td>\n",
       "      <td>0</td>\n",
       "      <td>0</td>\n",
       "      <td>0</td>\n",
       "    </tr>\n",
       "  </tbody>\n",
       "</table>\n",
       "</div>"
      ],
      "text/plain": [
       "                 id                                       comment_text  toxic  \\\n",
       "0  0000997932d777bf  Explanation\\nWhy the edits made under my usern...      0   \n",
       "1  000103f0d9cfb60f  D'aww! He matches this background colour I'm s...      0   \n",
       "2  000113f07ec002fd  Hey man, I'm really not trying to edit war. It...      0   \n",
       "3  0001b41b1c6bb37e  \"\\nMore\\nI can't make any real suggestions on ...      0   \n",
       "4  0001d958c54c6e35  You, sir, are my hero. Any chance you remember...      0   \n",
       "\n",
       "   severe_toxic  obscene  threat  insult  identity_hate  \n",
       "0             0        0       0       0              0  \n",
       "1             0        0       0       0              0  \n",
       "2             0        0       0       0              0  \n",
       "3             0        0       0       0              0  \n",
       "4             0        0       0       0              0  "
      ]
     },
     "execution_count": 3,
     "metadata": {},
     "output_type": "execute_result"
    }
   ],
   "source": [
    "train.head()"
   ]
  },
  {
   "cell_type": "code",
   "execution_count": 4,
   "metadata": {},
   "outputs": [
    {
     "data": {
      "text/html": [
       "<div>\n",
       "<style>\n",
       "    .dataframe thead tr:only-child th {\n",
       "        text-align: right;\n",
       "    }\n",
       "\n",
       "    .dataframe thead th {\n",
       "        text-align: left;\n",
       "    }\n",
       "\n",
       "    .dataframe tbody tr th {\n",
       "        vertical-align: top;\n",
       "    }\n",
       "</style>\n",
       "<table border=\"1\" class=\"dataframe\">\n",
       "  <thead>\n",
       "    <tr style=\"text-align: right;\">\n",
       "      <th></th>\n",
       "      <th>id</th>\n",
       "      <th>comment_text</th>\n",
       "    </tr>\n",
       "  </thead>\n",
       "  <tbody>\n",
       "    <tr>\n",
       "      <th>0</th>\n",
       "      <td>00001cee341fdb12</td>\n",
       "      <td>Yo bitch Ja Rule is more succesful then you'll...</td>\n",
       "    </tr>\n",
       "    <tr>\n",
       "      <th>1</th>\n",
       "      <td>0000247867823ef7</td>\n",
       "      <td>== From RfC == \\n\\n The title is fine as it is...</td>\n",
       "    </tr>\n",
       "    <tr>\n",
       "      <th>2</th>\n",
       "      <td>00013b17ad220c46</td>\n",
       "      <td>\" \\n\\n == Sources == \\n\\n * Zawe Ashton on Lap...</td>\n",
       "    </tr>\n",
       "    <tr>\n",
       "      <th>3</th>\n",
       "      <td>00017563c3f7919a</td>\n",
       "      <td>:If you have a look back at the source, the in...</td>\n",
       "    </tr>\n",
       "    <tr>\n",
       "      <th>4</th>\n",
       "      <td>00017695ad8997eb</td>\n",
       "      <td>I don't anonymously edit articles at all.</td>\n",
       "    </tr>\n",
       "  </tbody>\n",
       "</table>\n",
       "</div>"
      ],
      "text/plain": [
       "                 id                                       comment_text\n",
       "0  00001cee341fdb12  Yo bitch Ja Rule is more succesful then you'll...\n",
       "1  0000247867823ef7  == From RfC == \\n\\n The title is fine as it is...\n",
       "2  00013b17ad220c46  \" \\n\\n == Sources == \\n\\n * Zawe Ashton on Lap...\n",
       "3  00017563c3f7919a  :If you have a look back at the source, the in...\n",
       "4  00017695ad8997eb          I don't anonymously edit articles at all."
      ]
     },
     "execution_count": 4,
     "metadata": {},
     "output_type": "execute_result"
    }
   ],
   "source": [
    "test.head()"
   ]
  },
  {
   "cell_type": "code",
   "execution_count": 5,
   "metadata": {},
   "outputs": [
    {
     "data": {
      "text/plain": [
       "((159571, 8), (153164, 2))"
      ]
     },
     "execution_count": 5,
     "metadata": {},
     "output_type": "execute_result"
    }
   ],
   "source": [
    "train.shape,test.shape"
   ]
  },
  {
   "cell_type": "code",
   "execution_count": 6,
   "metadata": {},
   "outputs": [
    {
     "name": "stdout",
     "output_type": "stream",
     "text": [
      "Explanation\n",
      "Why the edits made under my username Hardcore Metallica Fan were reverted? They weren't vandalisms, just closure on some GAs after I voted at New York Dolls FAC. And please don't remove the template from the talk page since I'm retired now.89.205.38.27\n"
     ]
    }
   ],
   "source": [
    "print(train['comment_text'][0])"
   ]
  },
  {
   "cell_type": "markdown",
   "metadata": {},
   "source": [
    "Now, that we have had a look at the dataset , we can see that the comments, do need some preprocessing , to keep only the words that matter or add value to the dataset. It seems like a big enough dataset, so it shouldn't be a problem with lack of training data.\n",
    "\n",
    "## Preprocessing\n",
    "\n",
    "- we start by creating a dictionary of certain words which can be replaced by their respective meanings in the english language\n",
    "- We then try to impose these changes, take care of extra punctuations, white spaces, lowercase letter conversion etc, in the next step"
   ]
  },
  {
   "cell_type": "code",
   "execution_count": 9,
   "metadata": {
    "collapsed": true
   },
   "outputs": [],
   "source": [
    "repl = {\n",
    "    \"&lt;3\": \" good \",\n",
    "    \":d\": \" good \",\n",
    "    \":dd\": \" good \",\n",
    "    \":p\": \" good \",\n",
    "    \"8)\": \" good \",\n",
    "    \":-)\": \" good \",\n",
    "    \":)\": \" good \",\n",
    "    \";)\": \" good \",\n",
    "    \"(-:\": \" good \",\n",
    "    \"(:\": \" good \",\n",
    "    \"yay!\": \" good \",\n",
    "    \"yay\": \" good \",\n",
    "    \"yaay\": \" good \",\n",
    "    \"yaaay\": \" good \",\n",
    "    \"yaaaay\": \" good \",\n",
    "    \"yaaaaay\": \" good \",\n",
    "    \":/\": \" bad \",\n",
    "    \":&gt;\": \" sad \",\n",
    "    \":')\": \" sad \",\n",
    "    \":-(\": \" bad \",\n",
    "    \":(\": \" bad \",\n",
    "    \":s\": \" bad \",\n",
    "    \":-s\": \" bad \",\n",
    "    \"&lt;3\": \" heart \",\n",
    "    \":d\": \" smile \",\n",
    "    \":p\": \" smile \",\n",
    "    \":dd\": \" smile \",\n",
    "    \"8)\": \" smile \",\n",
    "    \":-)\": \" smile \",\n",
    "    \":)\": \" smile \",\n",
    "    \";)\": \" smile \",\n",
    "    \"(-:\": \" smile \",\n",
    "    \"(:\": \" smile \",\n",
    "    \":/\": \" worry \",\n",
    "    \":&gt;\": \" angry \",\n",
    "    \":')\": \" sad \",\n",
    "    \":-(\": \" sad \",\n",
    "    \":(\": \" sad \",\n",
    "    \":s\": \" sad \",\n",
    "    \":-s\": \" sad \",\n",
    "    r\"\\br\\b\": \"are\",\n",
    "    r\"\\bu\\b\": \"you\",\n",
    "    r\"\\bhaha\\b\": \"ha\",\n",
    "    r\"\\bhahaha\\b\": \"ha\",\n",
    "    r\"\\bdon't\\b\": \"do not\",\n",
    "    r\"\\bdoesn't\\b\": \"does not\",\n",
    "    r\"\\bdidn't\\b\": \"did not\",\n",
    "    r\"\\bhasn't\\b\": \"has not\",\n",
    "    r\"\\bhaven't\\b\": \"have not\",\n",
    "    r\"\\bhadn't\\b\": \"had not\",\n",
    "    r\"\\bwon't\\b\": \"will not\",\n",
    "    r\"\\bwouldn't\\b\": \"would not\",\n",
    "    r\"\\bcan't\\b\": \"can not\",\n",
    "    r\"\\bcannot\\b\": \"can not\",\n",
    "    r\"\\bi'm\\b\": \"i am\",\n",
    "    \"m\": \"am\",\n",
    "    \"r\": \"are\",\n",
    "    \"u\": \"you\",\n",
    "    \"haha\": \"ha\",\n",
    "    \"hahaha\": \"ha\",\n",
    "    \"don't\": \"do not\",\n",
    "    \"doesn't\": \"does not\",\n",
    "    \"didn't\": \"did not\",\n",
    "    \"hasn't\": \"has not\",\n",
    "    \"haven't\": \"have not\",\n",
    "    \"hadn't\": \"had not\",\n",
    "    \"won't\": \"will not\",\n",
    "    \"wouldn't\": \"would not\",\n",
    "    \"can't\": \"can not\",\n",
    "    \"cannot\": \"can not\",\n",
    "    \"i'm\": \"i am\",\n",
    "    \"m\": \"am\",\n",
    "    \"i'll\" : \"i will\",\n",
    "    \"its\" : \"it is\",\n",
    "    \"it's\" : \"it is\",\n",
    "    \"'s\" : \" is\",\n",
    "    \"that's\" : \"that is\",\n",
    "    \"weren't\" : \"were not\",\n",
    "    \"<3\": \"love\",\n",
    "    \"im\": \"i am\",\n",
    "    \"gonna\":'going to',\n",
    "    \"lol\":\"laugh out loud\",\n",
    "    \"lmao\":\"laugh my arse out\",\n",
    "    \"gr8\":\"great\"\n",
    "}\n",
    "keys = [i for i in repl.keys()]"
   ]
  },
  {
   "cell_type": "code",
   "execution_count": 10,
   "metadata": {},
   "outputs": [
    {
     "name": "stdout",
     "output_type": "stream",
     "text": [
      "dict_keys(['&lt;3', ':d', ':dd', ':p', '8)', ':-)', ':)', ';)', '(-:', '(:', 'yay!', 'yay', 'yaay', 'yaaay', 'yaaaay', 'yaaaaay', ':/', ':&gt;', \":')\", ':-(', ':(', ':s', ':-s', '\\\\br\\\\b', '\\\\bu\\\\b', '\\\\bhaha\\\\b', '\\\\bhahaha\\\\b', \"\\\\bdon't\\\\b\", \"\\\\bdoesn't\\\\b\", \"\\\\bdidn't\\\\b\", \"\\\\bhasn't\\\\b\", \"\\\\bhaven't\\\\b\", \"\\\\bhadn't\\\\b\", \"\\\\bwon't\\\\b\", \"\\\\bwouldn't\\\\b\", \"\\\\bcan't\\\\b\", '\\\\bcannot\\\\b', \"\\\\bi'm\\\\b\", 'm', 'r', 'u', 'haha', 'hahaha', \"don't\", \"doesn't\", \"didn't\", \"hasn't\", \"haven't\", \"hadn't\", \"won't\", \"wouldn't\", \"can't\", 'cannot', \"i'm\", \"i'll\", 'its', \"it's\", \"'s\", \"that's\", \"weren't\", '<3', 'im', 'gonna', 'lol', 'lmao', 'gr8'])\n"
     ]
    }
   ],
   "source": [
    "print(repl.keys())"
   ]
  },
  {
   "cell_type": "code",
   "execution_count": 11,
   "metadata": {
    "collapsed": true
   },
   "outputs": [],
   "source": [
    "def clean(comment):\n",
    "    \"\"\"\n",
    "    This function receives comments and returns clean word-list\n",
    "    \"\"\"\n",
    "    #Convert to lower case , so that Hi and hi are the same\n",
    "    comment=comment.lower()\n",
    "    #remove \\n\n",
    "    comment=re.sub(\"\\\\n\",\"\",comment)\n",
    "    # remove leaky elements like ip,user\n",
    "    comment=re.sub(\"\\d{1,3}\\.\\d{1,3}\\.\\d{1,3}\\.\\d{1,3}\",\"\",comment)\n",
    "    #removing usernames\n",
    "    comment=re.sub(\"\\[\\[.*\\]\",\"\",comment)\n",
    "    \n",
    "    #Split the sentences into words\n",
    "    words=tokenizer.tokenize(comment)\n",
    "    \n",
    "    # (')aphostophe  replacement (ie)   you're --> you are  \n",
    "    # ( basic dictionary lookup : master dictionary present in a hidden block of code)\n",
    "    words=[repl[word] if word in repl.keys() else word for word in words]\n",
    "    words=[lem.lemmatize(word, \"v\") for word in words]\n",
    "    words = [w for w in words if not w in eng_stopwords]\n",
    "    \n",
    "    clean_sent=\" \".join(words)\n",
    "    # remove any non alphanum,digit character\n",
    "    #clean_sent=re.sub(\"\\W+\",\" \",clean_sent)\n",
    "    #clean_sent=re.sub(\"  \",\" \",clean_sent)\n",
    "    return(clean_sent)\n",
    "\n"
   ]
  },
  {
   "cell_type": "markdown",
   "metadata": {},
   "source": [
    "# Splitting the train and test data\n",
    "After applying the clean preprocessing function, and checking the changes have taken place, we split the training set into its respective features and labels, also we have a look at the preprocessed testing set"
   ]
  },
  {
   "cell_type": "code",
   "execution_count": 12,
   "metadata": {
    "collapsed": true
   },
   "outputs": [],
   "source": [
    "X_train=train['comment_text'].apply(lambda x :clean(x))"
   ]
  },
  {
   "cell_type": "code",
   "execution_count": 13,
   "metadata": {},
   "outputs": [
    {
     "data": {
      "text/plain": [
       "0    explanationwhy edit make username hardcore met...\n",
       "1    d'aww ! match background colour i am seemingly...\n",
       "2    hey man , i am really try edit war . it is guy...\n",
       "3    \" morei can not make real suggestions improvem...\n",
       "4        , sir , hero . chance remember page that is ?\n",
       "Name: comment_text, dtype: object"
      ]
     },
     "execution_count": 13,
     "metadata": {},
     "output_type": "execute_result"
    }
   ],
   "source": [
    "X_train.head()"
   ]
  },
  {
   "cell_type": "code",
   "execution_count": 14,
   "metadata": {
    "collapsed": true
   },
   "outputs": [],
   "source": [
    "X_test=test['comment_text'].apply(lambda x: clean(x))"
   ]
  },
  {
   "cell_type": "code",
   "execution_count": 15,
   "metadata": {},
   "outputs": [
    {
     "data": {
      "text/plain": [
       "0    yo bitch ja rule succesful ever whats hat sad ...\n",
       "1                       = = rfc = = title fine , imo .\n",
       "2         \" = = source = = * zawe ashton lapland — / \"\n",
       "3    : look back source , information update correc...\n",
       "4                    do not anonymously edit article .\n",
       "Name: comment_text, dtype: object"
      ]
     },
     "execution_count": 15,
     "metadata": {},
     "output_type": "execute_result"
    }
   ],
   "source": [
    "X_test.head()"
   ]
  },
  {
   "cell_type": "code",
   "execution_count": 16,
   "metadata": {
    "collapsed": true
   },
   "outputs": [],
   "source": [
    "labels=['toxic','severe_toxic','obscene','threat','insult','identity_hate']\n",
    "y_train=train[labels].values\n"
   ]
  },
  {
   "cell_type": "code",
   "execution_count": 53,
   "metadata": {},
   "outputs": [
    {
     "data": {
      "image/png": "[encoded data removed]",
      "text/plain": [
       "<matplotlib.figure.Figure at 0x7ff24c408eb8>"
      ]
     },
     "metadata": {},
     "output_type": "display_data"
    }
   ],
   "source": [
    "subset=X_train\n",
    "text=subset.values\n",
    "wc= WordCloud(background_color=\"black\",max_words=2000,stopwords=eng_stopwords)\n",
    "wc.generate(\" \".join(text))\n",
    "plt.figure(figsize=(20,10))\n",
    "plt.axis(\"off\")\n",
    "plt.title(\"Words frequented in Clean Comments\", fontsize=20)\n",
    "plt.imshow(wc.recolor(colormap= 'viridis' , random_state=17), alpha=0.98)\n",
    "plt.show()"
   ]
  },
  {
   "cell_type": "markdown",
   "metadata": {},
   "source": [
    "# Changing the comments in a form which can be fed into Neural Network\n",
    "\n",
    "To let the neural network utilize the text sequences, we need to preprocess and feed it to the network ,by\n",
    "- Tokenizing the sentences words, indexing the tokenized words into a dictionary ['I','am','working']\n",
    "- Indexing the tokenized words into a dictionary like structure {1:'I',2:'am',3:'working'}\n",
    "- Index Representation, means utilizing the number keys as sequences tand feed these chain of sequences in the LSTM model "
   ]
  },
  {
   "cell_type": "code",
   "execution_count": 17,
   "metadata": {},
   "outputs": [
    {
     "name": "stdout",
     "output_type": "stream",
     "text": [
      "explanationwhy edit make username hardcore metallica fan revert ? were not vandalisms , closure gas vote new york dolls fac . please do not remove template talk page since i am retire .\n",
      "d'aww ! match background colour i am seemingly stick . thank . ( talk ) 21:51 , january 11 , 2016 ( utc )\n",
      "hey man , i am really try edit war . it is guy constantly remove relevant information talk edit instead talk page . seem care format actual info .\n",
      "\" morei can not make real suggestions improvement - wonder section statistics later , subsection \" \" type accidents \" \" - think reference may need tidy exact format ie date format etc . later , no-one else first - preferences format style reference want please let know.there appear backlog article review guess may delay reviewer turn . it is list relevant form eg wikipedia : good_article_nominations #transport \"\n",
      ", sir , hero . chance remember page that is ?\n"
     ]
    }
   ],
   "source": [
    "for i in range(5):\n",
    "    print(list(X_train)[i])"
   ]
  },
  {
   "cell_type": "markdown",
   "metadata": {},
   "source": [
    "### Describing hyperparmaters like max_features, embedding size, and timesteps, we will explain them as we come across them, we will use keras to tokenize , index using a dictionary and represent it as sequences, which will be utilized after padding"
   ]
  },
  {
   "cell_type": "code",
   "execution_count": 18,
   "metadata": {
    "collapsed": true
   },
   "outputs": [],
   "source": [
    "\n",
    "max_features=100000  #deciding the vocabulary size or the maximum no of possible words of dimensions possible \n",
    "tokenizer=Tokenizer(num_words=max_features) #utlilizing keras tokenizer to tokenize the preprocessed comment\n",
    "tokenizer.fit_on_texts(list(X_train)) #fitting the tokenizer on X_train\n",
    "sequence_list_train=tokenizer.texts_to_sequences(X_train) #indexing the fitted tokens in a dict in training set\n",
    "sequence_list_test=tokenizer.texts_to_sequences(X_test) #indexing the fitted tokens in a dict in test set"
   ]
  },
  {
   "cell_type": "code",
   "execution_count": 19,
   "metadata": {},
   "outputs": [
    {
     "data": {
      "text/plain": [
       "[86455,\n",
       " 5,\n",
       " 11,\n",
       " 566,\n",
       " 3713,\n",
       " 10112,\n",
       " 669,\n",
       " 70,\n",
       " 1863,\n",
       " 3,\n",
       " 9598,\n",
       " 5330,\n",
       " 2060,\n",
       " 434,\n",
       " 66,\n",
       " 1077,\n",
       " 13155,\n",
       " 2383,\n",
       " 13,\n",
       " 22,\n",
       " 3,\n",
       " 41,\n",
       " 273,\n",
       " 6,\n",
       " 2,\n",
       " 85,\n",
       " 19,\n",
       " 29,\n",
       " 2233]"
      ]
     },
     "execution_count": 19,
     "metadata": {},
     "output_type": "execute_result"
    }
   ],
   "source": [
    "#having a look at the indexed sequence in the first comment of the training set\n",
    "sequence_list_train[0]"
   ]
  },
  {
   "cell_type": "markdown",
   "metadata": {},
   "source": [
    "### padding the sequences\n",
    "There is one more issue to be dealt with , we need to fix a certain length of sequence which will be fed one at a time to the model , the sequences or lists which are shorter than this length will be padded with zeros, whereas longer sequences will be truncated , thereby maintaining the size of the sequence length in all cases, we do it using pad_sequences\n",
    "\n",
    "let us say the sequence length we decided is 7,\n",
    "\n",
    "eg1=[1,658,485] is of length 3 , but when padded, it becomes [1,685,485,0,0,0,0]\n",
    "\n",
    "eg2=[1,2,3,755,4,589,32,54,48,952,69,946,1,5882] ,when truncated becomes [1,2,3,755,4,589,32]\n",
    "\n",
    "so, we have to chose the sequence length as such that we cover most of the cases, without missing much info"
   ]
  },
  {
   "cell_type": "code",
   "execution_count": 20,
   "metadata": {
    "collapsed": true
   },
   "outputs": [],
   "source": [
    "#let us check the length distribution for the comments\n",
    "list_len=[len(sequence_list_train[i]) for i in range(len(X_train))]\n"
   ]
  },
  {
   "cell_type": "code",
   "execution_count": 21,
   "metadata": {},
   "outputs": [
    {
     "data": {
      "text/plain": [
       "<matplotlib.axes._subplots.AxesSubplot at 0x7f70178f75c0>"
      ]
     },
     "execution_count": 21,
     "metadata": {},
     "output_type": "execute_result"
    },
    {
     "data": {
      "image/png": "[encoded data removed]",
      "text/plain": [
       "<matplotlib.figure.Figure at 0x7f701f814dd8>"
      ]
     },
     "metadata": {},
     "output_type": "display_data"
    }
   ],
   "source": [
    "import seaborn as sns\n",
    "sns.distplot(list_len)\n"
   ]
  },
  {
   "cell_type": "code",
   "execution_count": 22,
   "metadata": {},
   "outputs": [
    {
     "data": {
      "text/plain": [
       "<matplotlib.axes._subplots.AxesSubplot at 0x7f701f814160>"
      ]
     },
     "execution_count": 22,
     "metadata": {},
     "output_type": "execute_result"
    },
    {
     "data": {
      "image/png": "[encoded data removed]",
      "text/plain": [
       "<matplotlib.figure.Figure at 0x7f700f59cef0>"
      ]
     },
     "metadata": {},
     "output_type": "display_data"
    }
   ],
   "source": [
    "list_len_test=[len(sequence_list_test[i]) for i in range(len(X_test))]\n",
    "sns.distplot(list_len_test)"
   ]
  },
  {
   "cell_type": "code",
   "execution_count": 23,
   "metadata": {
    "collapsed": true
   },
   "outputs": [],
   "source": [
    "#choosing 150 as the optimum length for the sequence and 300 as the embedding size as we will be using Glove 300d\n",
    "maxlen=150\n",
    "embed_size=300\n",
    "pad_train=pad_sequences(sequence_list_train,maxlen=maxlen)\n",
    "pad_test=pad_sequences(sequence_list_test,maxlen=maxlen)"
   ]
  },
  {
   "cell_type": "code",
   "execution_count": 24,
   "metadata": {},
   "outputs": [
    {
     "data": {
      "text/plain": [
       "(array([    0,     0,     0,     0,     0,     0,     0,     0,     0,\n",
       "            0,     0,     0,     0,     0,     0,     0,     0,     0,\n",
       "            0,     0,     0,     0,     0,     0,     0,     0,     0,\n",
       "            0,     0,     0,     0,     0,     0,     0,     0,     0,\n",
       "            0,     0,     0,     0,     0,     0,     0,     0,     0,\n",
       "            0,     0,     0,     0,     0,     0,     0,     0,     0,\n",
       "            0,     0,     0,     0,     0,     0,     0,     0,     0,\n",
       "            0,     0,     0,     0,     0,     0,     0,     0,     0,\n",
       "            0,     0,     0,     0,     0,     0,     0,     0,     0,\n",
       "            0,     0,     0,     0,     0,     0,     0,     0,     0,\n",
       "            0,     0,     0,     0,     0,     0,     0,     0,     0,\n",
       "            0,     0,     0,     0,     0,     0,     0,     0,     0,\n",
       "            0,     0,     0,     0,     0,     0,     0,     0,     0,\n",
       "            0,     0,     0,     0, 86455,     5,    11,   566,  3713,\n",
       "        10112,   669,    70,  1863,     3,  9598,  5330,  2060,   434,\n",
       "           66,  1077, 13155,  2383,    13,    22,     3,    41,   273,\n",
       "            6,     2,    85,    19,    29,  2233], dtype=int32), 150)"
      ]
     },
     "execution_count": 24,
     "metadata": {},
     "output_type": "execute_result"
    }
   ],
   "source": [
    "#having a look at the first comment after padding the training and testing set\n",
    "pad_train[0],len(pad_train[0])"
   ]
  },
  {
   "cell_type": "markdown",
   "metadata": {},
   "source": [
    "### Glove Embedding , embedding matrix creation\n",
    "\n",
    "we will now use the input layer, the embedding layer , and feed it into out LSTM model, by defining the shapes and dimensions properly, if the sequence length is too small , we may miss out on accuracy, if it is large , we would need a big enough network to capture the details.\n",
    "\n",
    "The Embedding layer will project our feature space into a lower dimensional vector space, which helps us save the computation.\n",
    "\n",
    "let's start building the model"
   ]
  },
  {
   "cell_type": "code",
   "execution_count": 49,
   "metadata": {
    "collapsed": true
   },
   "outputs": [],
   "source": [
    "#utlizing the glove embeddings and creating an embedding matrix\n",
    "EMBEDDING_FILE = '../glove.840B.300d.txt'\n",
    "\n",
    "embeddings_index = {}\n",
    "with open(EMBEDDING_FILE, encoding='utf8') as f:\n",
    "    for line in f:\n",
    "        values = line.rstrip().rsplit(' ')\n",
    "        word = values[0]\n",
    "        coefs = np.asarray(values[1:], dtype='float32')\n",
    "        embeddings_index[word] = coefs\n",
    "\n",
    "word_index = tokenizer.word_index\n",
    "num_words = min(max_features, len(word_index) + 1)\n",
    "embedding_matrix = np.zeros((num_words, embed_size))\n",
    "for word, i in word_index.items():\n",
    "    if i >= max_features:\n",
    "        continue\n",
    "    \n",
    "    embedding_vector = embeddings_index.get(word)\n",
    "    if embedding_vector is not None:\n",
    "        embedding_matrix[i] = embedding_vector\n"
   ]
  },
  {
   "cell_type": "code",
   "execution_count": 54,
   "metadata": {},
   "outputs": [
    {
     "name": "stdout",
     "output_type": "stream",
     "text": [
      "float64\n"
     ]
    },
    {
     "data": {
      "text/plain": [
       "(None, (100000, 300))"
      ]
     },
     "execution_count": 54,
     "metadata": {},
     "output_type": "execute_result"
    }
   ],
   "source": [
    "print(embedding_matrix.dtype),embedding_matrix.shape"
   ]
  },
  {
   "cell_type": "markdown",
   "metadata": {},
   "source": [
    "I will save this numpy array and utilize it directly for my training data as it saves me the burden of going through the above steps again."
   ]
  },
  {
   "cell_type": "code",
   "execution_count": 55,
   "metadata": {
    "collapsed": true
   },
   "outputs": [],
   "source": [
    "np.savetxt('glove_matrix.txt',embedding_matrix)"
   ]
  },
  {
   "cell_type": "code",
   "execution_count": 25,
   "metadata": {
    "collapsed": true
   },
   "outputs": [],
   "source": [
    "embedding_matrix=np.loadtxt('glove_matrix.txt')"
   ]
  },
  {
   "cell_type": "markdown",
   "metadata": {},
   "source": [
    "# Model Building\n",
    "We will be utilizing keras to build a neural network using the Model API\n",
    "\n",
    "The model consists of bidirectional LSTM and a CNN , before that , let us split the training data into training and validation set, and utilize the evaluation metric which will be using to evaluate our model,i.e Receiver Operating Chaacteristic Area under the curve\n",
    "\n",
    "We have also used Modelcheckpoint as a callback which will save the model after every epoch "
   ]
  },
  {
   "cell_type": "code",
   "execution_count": 26,
   "metadata": {},
   "outputs": [
    {
     "name": "stderr",
     "output_type": "stream",
     "text": [
      "/home/tensor/anaconda3/lib/python3.6/site-packages/sklearn/model_selection/_split.py:2026: FutureWarning: From version 0.21, test_size will always complement train_size unless both are specified.\n",
      "  FutureWarning)\n"
     ]
    }
   ],
   "source": [
    "from sklearn.metrics import roc_auc_score\n",
    "import keras.backend as k\n",
    "from sklearn.model_selection import train_test_split\n",
    "from keras.callbacks import Callback\n",
    "class RocAucEvaluation(Callback):\n",
    "    def __init__(self, validation_data=(), interval=1):\n",
    "        super(Callback, self).__init__()\n",
    "\n",
    "        self.interval = interval\n",
    "        self.X_val, self.y_val = validation_data\n",
    "\n",
    "    def on_epoch_end(self, epoch, logs={}):\n",
    "        if epoch % self.interval == 0:\n",
    "            y_pred = self.model.predict(self.X_val, verbose=0)\n",
    "            score = roc_auc_score(self.y_val, y_pred)\n",
    "            print(\"\\n ROC-AUC - epoch: %d - score: %.6f \\n\" % (epoch+1, score))\n",
    "\n",
    "\n",
    "X_tra, X_val, y_tra, y_val = train_test_split(pad_train, y_train, train_size=0.95, random_state=233)\n",
    "RocAuc = RocAucEvaluation(validation_data=(X_val, y_val), interval=1)\n",
    "filepath=\"weights-improvement-{epoch:02d}-{val_acc:.2f}.hdf5\"\n",
    "checkpoint = ModelCheckpoint(filepath,monitor='val_loss',verbose=1, save_best_only=False)\n",
    "callbacks_list = [checkpoint,RocAuc]"
   ]
  },
  {
   "cell_type": "markdown",
   "metadata": {},
   "source": [
    "### layer by layer explanation of the model architecture\n",
    "- input layer takes input in the form on maxlen or the no of timesteps to be processed at a time\n",
    "- embedding layer projects the input features to a lower dimensional vector space using glove weights which are trainable , as a result it can change when it encounters something new\n",
    "- SpatialDropout is used to avoid overfitting, as it is meant to drop dimensions from an output vector/matrix \n",
    "- We then apply a bidirectional layer to an LSTM cell to capture the sequences both forward and backward, we have taken measures in this layer as well to avoid overfitting\n",
    "- The output then passes to a unidimensional COnvolutional layer with valid padding which captures different aspects with different kernel weights\n",
    "- We then perform a concatenation of two layers, a globalmaxpool(which takes the maximum value of the output feature map at every iteration) a global average pool( which takes average value of the output feature map at every iteration) \n",
    "- This concatenation is then passed on to a fully connected layer which uses sigmoid activation function and 6 output nodes to give 6  output probabilities to 6 labels."
   ]
  },
  {
   "cell_type": "code",
   "execution_count": 32,
   "metadata": {
    "collapsed": true
   },
   "outputs": [],
   "source": [
    "##defining our model architecture \n",
    "def Conv_biLSTM(maxlen):\n",
    "    inp=Input(shape=(maxlen,))\n",
    "    x=Embedding(input_dim=max_features,output_dim=embed_size,weights=[embedding_matrix],trainable=True)(inp)\n",
    "    x=SpatialDropout1D(0.35)(x)\n",
    "    x = Bidirectional(LSTM(128, return_sequences=True, dropout=0.15, recurrent_dropout=0.15))(x)\n",
    "    x = Conv1D(64, kernel_size=3, padding='valid', kernel_initializer='glorot_uniform')(x)\n",
    "\n",
    "    avg_pool = GlobalAveragePooling1D()(x)\n",
    "    max_pool = GlobalMaxPooling1D()(x)\n",
    "    x = concatenate([avg_pool, max_pool])\n",
    "\n",
    "    out = Dense(6, activation='sigmoid')(x)\n",
    "\n",
    "    model = Model(inp, out)\n",
    "    model.compile(loss='binary_crossentropy', optimizer='adam', metrics=['accuracy'])\n",
    "    return model\n"
   ]
  },
  {
   "cell_type": "code",
   "execution_count": 33,
   "metadata": {},
   "outputs": [
    {
     "name": "stdout",
     "output_type": "stream",
     "text": [
      "____________________________________________________________________________________________________\n",
      "Layer (type)                     Output Shape          Param #     Connected to                     \n",
      "====================================================================================================\n",
      "input_2 (InputLayer)             (None, 150)           0                                            \n",
      "____________________________________________________________________________________________________\n",
      "embedding_2 (Embedding)          (None, 150, 300)      30000000    input_2[0][0]                    \n",
      "____________________________________________________________________________________________________\n",
      "spatial_dropout1d_2 (SpatialDrop (None, 150, 300)      0           embedding_2[0][0]                \n",
      "____________________________________________________________________________________________________\n",
      "bidirectional_2 (Bidirectional)  (None, 150, 256)      439296      spatial_dropout1d_2[0][0]        \n",
      "____________________________________________________________________________________________________\n",
      "conv1d_2 (Conv1D)                (None, 148, 64)       49216       bidirectional_2[0][0]            \n",
      "____________________________________________________________________________________________________\n",
      "global_average_pooling1d_2 (Glob (None, 64)            0           conv1d_2[0][0]                   \n",
      "____________________________________________________________________________________________________\n",
      "global_max_pooling1d_2 (GlobalMa (None, 64)            0           conv1d_2[0][0]                   \n",
      "____________________________________________________________________________________________________\n",
      "concatenate_2 (Concatenate)      (None, 128)           0           global_average_pooling1d_2[0][0] \n",
      "                                                                   global_max_pooling1d_2[0][0]     \n",
      "____________________________________________________________________________________________________\n",
      "dense_2 (Dense)                  (None, 6)             774         concatenate_2[0][0]              \n",
      "====================================================================================================\n",
      "Total params: 30,489,286\n",
      "Trainable params: 30,489,286\n",
      "Non-trainable params: 0\n",
      "____________________________________________________________________________________________________\n"
     ]
    }
   ],
   "source": [
    "model=Conv_biLSTM(maxlen)\n",
    "model.summary()"
   ]
  },
  {
   "cell_type": "code",
   "execution_count": 34,
   "metadata": {},
   "outputs": [
    {
     "name": "stdout",
     "output_type": "stream",
     "text": [
      "Train on 151592 samples, validate on 7979 samples\n",
      "Epoch 1/2\n",
      "151584/151592 [============================>.] - ETA: 0s - loss: 0.0508 - acc: 0.9814Epoch 00000: saving model to weights-improvement-00-0.98.hdf5\n",
      "\n",
      " ROC-AUC - epoch: 1 - score: 0.986474 \n",
      "\n",
      "151592/151592 [==============================] - 4934s - loss: 0.0508 - acc: 0.9814 - val_loss: 0.0472 - val_acc: 0.9823\n",
      "Epoch 2/2\n",
      "151584/151592 [============================>.] - ETA: 0s - loss: 0.0402 - acc: 0.9841Epoch 00001: saving model to weights-improvement-01-0.98.hdf5\n",
      "\n",
      " ROC-AUC - epoch: 2 - score: 0.988145 \n",
      "\n",
      "151592/151592 [==============================] - 4717s - loss: 0.0402 - acc: 0.9841 - val_loss: 0.0442 - val_acc: 0.9826\n"
     ]
    },
    {
     "data": {
      "text/plain": [
       "<keras.callbacks.History at 0x7f6fda8a5e48>"
      ]
     },
     "execution_count": 34,
     "metadata": {},
     "output_type": "execute_result"
    }
   ],
   "source": [
    "#after having a look at model parameters , let us train the model for 2 epochs and evaluate it on validation set\n",
    "batch_size = 32\n",
    "epochs = 2\n",
    "\n",
    "model.fit(X_tra, y_tra, batch_size=batch_size, epochs=epochs, verbose=1,callbacks=callbacks_list,\n",
    "          validation_data=(X_val,y_val))\n"
   ]
  },
  {
   "cell_type": "markdown",
   "metadata": {},
   "source": [
    "We will use the weights we achieved in the second epoch as our final weights, it seems to have a decent performance on the validation set"
   ]
  },
  {
   "cell_type": "code",
   "execution_count": 35,
   "metadata": {
    "collapsed": true
   },
   "outputs": [],
   "source": [
    "model.save('conv_biLSTM_glove.hdf5')"
   ]
  },
  {
   "cell_type": "markdown",
   "metadata": {
    "collapsed": true
   },
   "source": [
    "### Let us predict the test set with our trained model and see what predictions and results we get"
   ]
  },
  {
   "cell_type": "code",
   "execution_count": 36,
   "metadata": {},
   "outputs": [
    {
     "name": "stdout",
     "output_type": "stream",
     "text": [
      "153164/153164 [==============================] - 452s   \n"
     ]
    }
   ],
   "source": [
    "y_preds=model.predict(pad_test,batch_size=64,verbose=1)"
   ]
  },
  {
   "cell_type": "code",
   "execution_count": 37,
   "metadata": {
    "collapsed": true
   },
   "outputs": [],
   "source": [
    "submission=pd.read_csv('sample_submission.csv')\n",
    "submission[labels]=y_preds\n",
    "submission.to_csv('biLSTM-conv-glove.csv',index=False)"
   ]
  },
  {
   "cell_type": "markdown",
   "metadata": {
    "collapsed": true
   },
   "source": [
    "This model achieved a score of 0.9827 in the kaggle test set, which is not bad. More things that can be tried , for eg: ensemble of different models, correlation check with different models for different labels"
   ]
  }
 ],
 "metadata": {
  "kernelspec": {
   "display_name": "Python 3",
   "language": "python",
   "name": "python3"
  },
  "language_info": {
   "codemirror_mode": {
    "name": "ipython",
    "version": 3
   },
   "file_extension": ".py",
   "mimetype": "text/x-python",
   "name": "python",
   "nbconvert_exporter": "python",
   "pygments_lexer": "ipython3",
   "version": "3.6.3"
  }
 },
 "nbformat": 4,
 "nbformat_minor": 2
}
